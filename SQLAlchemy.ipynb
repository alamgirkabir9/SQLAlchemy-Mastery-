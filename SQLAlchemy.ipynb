{
  "cells": [
    {
      "cell_type": "markdown",
      "metadata": {
        "id": "_gWUkDg12azf"
      },
      "source": [
        "# SQLAlchemy\n",
        "* SQLAlchemy is a popular Python SQL toolkit and Object Relational Mapper (ORM) that provides an efficient way to interact with relational databases. It allows developers to write Python code instead of raw SQL queries to interact with databases, making it easier to manage database operations."
      ]
    },
    {
      "cell_type": "markdown",
      "metadata": {
        "id": "yd-IMYgk2azh"
      },
      "source": [
        "## When to Use SQLAlchemy?\n",
        "* If you want to write database-independent code.\n",
        "* If you need an efficient way to manage database connections.\n",
        "* If you prefer working with Python objects instead of raw SQL queries.\n",
        "* If you need to handle complex database relationships."
      ]
    },
    {
      "cell_type": "markdown",
      "metadata": {
        "id": "NXYEk8Tx2azi"
      },
      "source": [
        "# You can install SQLAlchemy using"
      ]
    },
    {
      "cell_type": "code",
      "execution_count": 1,
      "metadata": {
        "colab": {
          "base_uri": "https://localhost:8080/"
        },
        "id": "OOliJRgX2azl",
        "outputId": "2e1c6ab0-7414-4fa5-c539-7f0ff68981ea"
      },
      "outputs": [
        {
          "output_type": "stream",
          "name": "stdout",
          "text": [
            "Requirement already satisfied: sqlalchemy in /usr/local/lib/python3.11/dist-packages (2.0.41)\n",
            "Requirement already satisfied: greenlet>=1 in /usr/local/lib/python3.11/dist-packages (from sqlalchemy) (3.2.3)\n",
            "Requirement already satisfied: typing-extensions>=4.6.0 in /usr/local/lib/python3.11/dist-packages (from sqlalchemy) (4.14.0)\n"
          ]
        }
      ],
      "source": [
        "!pip install sqlalchemy"
      ]
    },
    {
      "cell_type": "code",
      "execution_count": 2,
      "metadata": {
        "id": "GitSQbl92azm"
      },
      "outputs": [],
      "source": [
        "from sqlalchemy import create_engine,Column,Integer,String\n",
        "from sqlalchemy.orm import declarative_base,sessionmaker\n",
        "\n",
        "db_url = \"sqlite:///example.db\" # database path\n",
        "\n",
        "# Database connection\n",
        "# Create a database connection (SQLite in this case)\n",
        "engine = create_engine(db_url)     # Connects to an SQLite database file named 'example.db'\n",
        "\n",
        "# Create a base class for ORM models\n",
        "Base = declarative_base()  # Used to define ORM models\n",
        "\n",
        "# Define a User model (mapped to a table)\n",
        "class User(Base):\n",
        "    __tablename__ = \"users\"  # Define the table name in the database\n",
        "\n",
        "    id = Column(Integer, primary_key=True)  # Primary key column (unique identifier)\n",
        "    name = Column(String)  # Column for storing user names as text\n",
        "    age = Column(Integer)  # Column for storing user ages as integers\n",
        "\n",
        "# Create the table in the database (if it doesn’t exist)\n",
        "Base.metadata.create_all(engine)  # Generates SQL commands to create tables based on ORM models\n",
        "\n",
        "# Create a session to interact with the database\n",
        "Session = sessionmaker(bind=engine)  # Bind the session to the database engine\n",
        "session = Session()  # Create a new session instance\n",
        "\n",
        "# Create a new user object\n",
        "new_user = User(name=\"Alice\", age=25)  # Instantiate a new User object with name and age\n",
        "user_1=User(name=\"Alamgir\",age=24)     # User object with name and age\n",
        "user_2=User(name=\"Rhamin\",age=15)      # User object with name and age\n",
        "user_3=User(name=\"John\",age=34)        # User object with name and age\n",
        "\n",
        "# Add the new user to the session (staging for commit)\n",
        "session.add(new_user)  # Adds the user instance to the session\n",
        "session.add_all([user_1,user_2,user_3])\n",
        "\n",
        "# Commit the transaction (saves changes to the database)\n",
        "session.commit()  # Executes SQL INSERT command to store the user in the database\n",
        "\n"
      ]
    },
    {
      "cell_type": "markdown",
      "metadata": {
        "id": "Po_lpPSm2azp"
      },
      "source": [
        "# Read the user"
      ]
    },
    {
      "cell_type": "code",
      "execution_count": 3,
      "metadata": {
        "colab": {
          "base_uri": "https://localhost:8080/"
        },
        "id": "1xmyxpdR2azq",
        "outputId": "0d5f961f-8c14-48f5-ee87-5875e08ed4ab"
      },
      "outputs": [
        {
          "output_type": "stream",
          "name": "stdout",
          "text": [
            "Alice 25\n",
            "Alamgir 24\n",
            "Rhamin 15\n",
            "John 34\n"
          ]
        }
      ],
      "source": [
        "users = session.query(User).all()  # Retrieves all User objects from the database\n",
        "\n",
        "# Iterate over the retrieved users and print their details\n",
        "for user in users:\n",
        "    print(user.name, user.age)  # Print each user's name and age"
      ]
    },
    {
      "cell_type": "code",
      "execution_count": 4,
      "metadata": {
        "colab": {
          "base_uri": "https://localhost:8080/"
        },
        "id": "-RdLdUOS2azr",
        "outputId": "c2de1d6d-d016-4b9d-c8e8-4e5fe5b89d96"
      },
      "outputs": [
        {
          "output_type": "stream",
          "name": "stdout",
          "text": [
            "<__main__.User object at 0x7f381cd17a90>\n",
            "3\n",
            "Rhamin\n",
            "15\n"
          ]
        }
      ],
      "source": [
        "Users = session.query(User).filter_by(id=3).one_or_none() # to find the specific element\n",
        "print(Users)\n",
        "print(Users.id)\n",
        "print(Users.name)\n",
        "print(Users.age)"
      ]
    },
    {
      "cell_type": "markdown",
      "metadata": {
        "id": "jD4XcFhO2azr"
      },
      "source": [
        "# Update the user"
      ]
    },
    {
      "cell_type": "code",
      "execution_count": 5,
      "metadata": {
        "colab": {
          "base_uri": "https://localhost:8080/"
        },
        "id": "0i4o4dpd2azs",
        "outputId": "599c5caa-6589-4afe-c1c8-553408e7e6c3"
      },
      "outputs": [
        {
          "output_type": "stream",
          "name": "stdout",
          "text": [
            "<__main__.User object at 0x7f381cd17a90>\n",
            "Rhamin\n",
            "Alamgir\n"
          ]
        }
      ],
      "source": [
        "Users = session.query(User).filter_by(id=3).one_or_none() # to find the specific element\n",
        "print(Users)\n",
        "print(Users.name)\n",
        "Users.name=\"Alamgir\"                                   # change the name\n",
        "print(Users.name)\n",
        "session.commit()"
      ]
    },
    {
      "cell_type": "markdown",
      "metadata": {
        "id": "O-ioDUwt2azs"
      },
      "source": [
        "# Delete the user"
      ]
    },
    {
      "cell_type": "code",
      "execution_count": 6,
      "metadata": {
        "colab": {
          "base_uri": "https://localhost:8080/"
        },
        "id": "nIx0VwIt2azs",
        "outputId": "2b442061-48dc-43d7-f9a0-115afa25da34"
      },
      "outputs": [
        {
          "output_type": "stream",
          "name": "stdout",
          "text": [
            "<__main__.User object at 0x7f381cd33290>\n"
          ]
        }
      ],
      "source": [
        "Users = session.query(User).filter_by(id=2).one_or_none() # to find the specific element\n",
        "print(Users)\n",
        "session.delete(Users)                                     # delete the spcific row\n",
        "session.commit()"
      ]
    },
    {
      "cell_type": "markdown",
      "metadata": {
        "id": "T7J3btHA2azt"
      },
      "source": [
        "# add or insert the user"
      ]
    },
    {
      "cell_type": "code",
      "execution_count": 7,
      "metadata": {
        "id": "hmwgsGMw2azt"
      },
      "outputs": [],
      "source": [
        "import random\n",
        "from sqlalchemy.orm import declarative_base,sessionmaker\n",
        "\n",
        "Session = sessionmaker(bind=engine)\n",
        "session=Session()\n",
        "names = [\"Alam\", \"Bob\", \"Charlie\", \"David\", \"Eve\", \"Frank\", \"Grace\", \"Hannah\", \"Ian\", \"Jack\"]\n",
        "ages = [12, 25, 30, 22, 19, 27, 35, 29, 24, 40]\n",
        "for x in range(15):                            #take the random name and age and add to tabel\n",
        "    user = User(name=random.choice(names),age=random.choice(ages))\n",
        "    session.add(user)\n",
        "\n",
        "session.commit()\n"
      ]
    },
    {
      "cell_type": "code",
      "execution_count": 8,
      "metadata": {
        "colab": {
          "base_uri": "https://localhost:8080/"
        },
        "id": "yecWMQVt2azt",
        "outputId": "cb85503e-fbf8-44ad-d4d3-15eb20498536"
      },
      "outputs": [
        {
          "output_type": "stream",
          "name": "stdout",
          "text": [
            "Alice 25\n",
            "Alamgir 15\n",
            "John 34\n",
            "Hannah 27\n",
            "Bob 40\n",
            "Jack 29\n",
            "Charlie 29\n",
            "Hannah 25\n",
            "Alam 24\n",
            "Bob 19\n",
            "Ian 19\n",
            "Eve 22\n",
            "Frank 25\n",
            "Bob 29\n",
            "Grace 19\n",
            "Bob 27\n",
            "Eve 22\n",
            "Frank 35\n"
          ]
        }
      ],
      "source": [
        "users = session.query(User).all()  # Retrieves all User objects from the database\n",
        "\n",
        "# Iterate over the retrieved users and print their details\n",
        "for user in users:\n",
        "    print(user.name, user.age)  # Print each user's name and age"
      ]
    },
    {
      "cell_type": "markdown",
      "source": [
        "# query all user order by age (ascending order)\n"
      ],
      "metadata": {
        "id": "tEjbSgNxLR7I"
      }
    },
    {
      "cell_type": "code",
      "execution_count": 9,
      "metadata": {
        "colab": {
          "base_uri": "https://localhost:8080/"
        },
        "id": "slQLAUYH2azu",
        "outputId": "44df69b2-e933-4f58-d88a-2879ed7afd88"
      },
      "outputs": [
        {
          "output_type": "stream",
          "name": "stdout",
          "text": [
            "Alamgir 15\n",
            "Bob 19\n",
            "Ian 19\n",
            "Grace 19\n",
            "Eve 22\n",
            "Eve 22\n",
            "Alam 24\n",
            "Alice 25\n",
            "Hannah 25\n",
            "Frank 25\n",
            "Hannah 27\n",
            "Bob 27\n",
            "Jack 29\n",
            "Charlie 29\n",
            "Bob 29\n",
            "John 34\n",
            "Frank 35\n",
            "Bob 40\n"
          ]
        }
      ],
      "source": [
        "# query all user order by age (ascending order)\n",
        "users = session.query(User).order_by(User.age).all()\n",
        "for user in users:\n",
        "    print(user.name, user.age)  # Print each user's name and age"
      ]
    },
    {
      "cell_type": "code",
      "execution_count": 10,
      "metadata": {
        "colab": {
          "base_uri": "https://localhost:8080/"
        },
        "id": "fJs6Owwp2azu",
        "outputId": "b0142ece-ccac-4d56-9bf3-699e5d9c7932"
      },
      "outputs": [
        {
          "output_type": "stream",
          "name": "stdout",
          "text": [
            "1 Alice 25\n",
            "3 Alamgir 15\n",
            "4 John 34\n",
            "5 Hannah 27\n",
            "6 Bob 40\n",
            "7 Jack 29\n",
            "8 Charlie 29\n",
            "9 Hannah 25\n",
            "10 Alam 24\n",
            "11 Bob 19\n",
            "12 Ian 19\n",
            "13 Eve 22\n",
            "14 Frank 25\n",
            "15 Bob 29\n",
            "16 Grace 19\n",
            "17 Bob 27\n",
            "18 Eve 22\n",
            "19 Frank 35\n"
          ]
        }
      ],
      "source": [
        "Session=sessionmaker(bind=engine)\n",
        "session=Session()\n",
        "# query all users\n",
        "all_users = session.query(User).all()\n",
        "\n",
        "for user in all_users:\n",
        "    print(user.id,user.name,user.age)\n",
        "\n",
        ""
      ]
    },
    {
      "cell_type": "markdown",
      "source": [
        "# query all user age greater than or equal to 25"
      ],
      "metadata": {
        "id": "j_4IErJdLwTb"
      }
    },
    {
      "cell_type": "code",
      "execution_count": 11,
      "metadata": {
        "colab": {
          "base_uri": "https://localhost:8080/"
        },
        "id": "vPQT3o4x2azu",
        "outputId": "a86c45df-6e9f-4862-ce43-2be4a6467f84"
      },
      "outputs": [
        {
          "output_type": "stream",
          "name": "stdout",
          "text": [
            "11\n",
            "1 Alice 25\n",
            "4 John 34\n",
            "5 Hannah 27\n",
            "6 Bob 40\n",
            "7 Jack 29\n",
            "8 Charlie 29\n",
            "9 Hannah 25\n",
            "14 Frank 25\n",
            "15 Bob 29\n",
            "17 Bob 27\n",
            "19 Frank 35\n"
          ]
        }
      ],
      "source": [
        "# query all user age greater than or equal to 25\n",
        "filter_query = session.query(User).filter(User.age>=25).all()\n",
        "print(len(filter_query))\n",
        "for user in filter_query:\n",
        "    print(user.id,user.name,user.age)"
      ]
    },
    {
      "cell_type": "markdown",
      "metadata": {
        "id": "VKkXbuo72azu"
      },
      "source": [
        "# condition to find specific user"
      ]
    },
    {
      "cell_type": "code",
      "execution_count": 12,
      "metadata": {
        "colab": {
          "base_uri": "https://localhost:8080/"
        },
        "id": "GUauYcZV2azu",
        "outputId": "ee62488a-17cf-4cb0-96dc-16d60e6b9575"
      },
      "outputs": [
        {
          "output_type": "stream",
          "name": "stdout",
          "text": [
            "11\n",
            "1 Alice 25\n",
            "4 John 34\n",
            "5 Hannah 27\n",
            "6 Bob 40\n",
            "7 Jack 29\n",
            "8 Charlie 29\n",
            "9 Hannah 25\n",
            "14 Frank 25\n",
            "15 Bob 29\n",
            "17 Bob 27\n",
            "19 Frank 35\n"
          ]
        }
      ],
      "source": [
        "# query all user age greater than or equal to 25\n",
        "filter_query = session.query(User).where(User.age>=25).all()\n",
        "print(len(filter_query))\n",
        "for user in filter_query:\n",
        "    print(user.id,user.name,user.age)"
      ]
    },
    {
      "cell_type": "markdown",
      "metadata": {
        "id": "zrn_kZ_m2azv"
      },
      "source": [
        "# or_ for giving condition"
      ]
    },
    {
      "cell_type": "code",
      "execution_count": 13,
      "metadata": {
        "colab": {
          "base_uri": "https://localhost:8080/"
        },
        "id": "lB9C9aeY2azv",
        "outputId": "b90c7469-6e34-4d9f-881e-65836899a1d5"
      },
      "outputs": [
        {
          "output_type": "stream",
          "name": "stdout",
          "text": [
            "12\n",
            "1 Alice 25\n",
            "3 Alamgir 15\n",
            "4 John 34\n",
            "5 Hannah 27\n",
            "6 Bob 40\n",
            "7 Jack 29\n",
            "8 Charlie 29\n",
            "9 Hannah 25\n",
            "14 Frank 25\n",
            "15 Bob 29\n",
            "17 Bob 27\n",
            "19 Frank 35\n"
          ]
        }
      ],
      "source": [
        "from sqlalchemy import or_\n",
        "\n",
        "#logic or operation print all user that meet any condition\n",
        "filter_query = session.query(User).where(or_(User.age>=25,User.name==\"Alamgir\")).all()\n",
        "print(len(filter_query))\n",
        "for user in filter_query:\n",
        "    print(user.id,user.name,user.age)"
      ]
    },
    {
      "cell_type": "markdown",
      "metadata": {
        "id": "0-uzt-IN2azv"
      },
      "source": [
        "# and_ for giving condition"
      ]
    },
    {
      "cell_type": "code",
      "execution_count": 14,
      "metadata": {
        "colab": {
          "base_uri": "https://localhost:8080/"
        },
        "id": "ZkqdmdAQ2azv",
        "outputId": "1374fe9e-90c7-4331-fdfd-340d6cf88a12"
      },
      "outputs": [
        {
          "output_type": "stream",
          "name": "stdout",
          "text": [
            "0\n"
          ]
        }
      ],
      "source": [
        "from sqlalchemy import and_         #and operation for giving condition\n",
        "\n",
        "#logic and operation print all user that meet both condition\n",
        "filter_query = session.query(User).where(and_(User.age>=24,User.name==\"Alamgir\")).all()\n",
        "print(len(filter_query))\n",
        "for user in filter_query:\n",
        "    print(user.id,user.name,user.age)"
      ]
    },
    {
      "cell_type": "markdown",
      "metadata": {
        "id": "qBbMeNmq2azv"
      },
      "source": [
        "# Grouping and chaining"
      ]
    },
    {
      "cell_type": "markdown",
      "metadata": {
        "id": "tejl59a52azw"
      },
      "source": [
        "### SQL\n",
        "* SELECT age\n",
        "* FROM users\n",
        "* GROUP BY age"
      ]
    },
    {
      "cell_type": "code",
      "execution_count": 15,
      "metadata": {
        "colab": {
          "base_uri": "https://localhost:8080/"
        },
        "id": "UKrs9Pub2azw",
        "outputId": "2910ed74-e877-400c-a12e-af20a7743d55"
      },
      "outputs": [
        {
          "output_type": "stream",
          "name": "stdout",
          "text": [
            "[(15,), (19,), (22,), (24,), (25,), (27,), (29,), (34,), (35,), (40,)]\n",
            "[(15, 1), (19, 3), (22, 2), (24, 1), (25, 3), (27, 2), (29, 3), (34, 1), (35, 1), (40, 1)]\n",
            "[('Alam', 1), ('Alamgir', 1), ('Alice', 1), ('Bob', 4), ('Charlie', 1), ('Eve', 2), ('Frank', 2), ('Grace', 1), ('Hannah', 2), ('Ian', 1), ('Jack', 1), ('John', 1)]\n"
          ]
        }
      ],
      "source": [
        "from sqlalchemy import func\n",
        "#Group user by age\n",
        "users = session.query(User.age).group_by(User.age).all()\n",
        "print(users)\n",
        "\n",
        "user = session.query(User.age,func.count(User.id)).group_by(User.age).all()\n",
        "print(user)\n",
        "\n",
        "#group by name\n",
        "user = session.query(User.name,func.count(User.id)).group_by(User.name).all()\n",
        "print(user)"
      ]
    },
    {
      "cell_type": "markdown",
      "metadata": {
        "id": "oxD1pu4k2azw"
      },
      "source": [
        "### SQL\n",
        "* SELECT age, count(id)\n",
        "* FROM user\n",
        "* WHERE age>24 and age<35\n",
        "* GROUP BY age\n",
        "* ORDER BY \"age\";"
      ]
    },
    {
      "cell_type": "code",
      "execution_count": 16,
      "metadata": {
        "colab": {
          "base_uri": "https://localhost:8080/"
        },
        "id": "40KCyM-G2azw",
        "outputId": "f96780b3-2dff-446d-ea91-cf5be6bcee11"
      },
      "outputs": [
        {
          "output_type": "stream",
          "name": "stdout",
          "text": [
            "age : 25 - 3 users\n",
            "age : 27 - 2 users\n",
            "age : 29 - 3 users\n",
            "age : 34 - 1 users\n"
          ]
        }
      ],
      "source": [
        "from sqlalchemy import func\n",
        "\n",
        "users_tuple=(\n",
        "    session.query(User.age,func.count(User.id))\n",
        "    .filter(User.age>24)\n",
        "    .order_by(User.age)\n",
        "    .filter(User.age<35)\n",
        "    .group_by(User.age)\n",
        "    .all()\n",
        ")\n",
        "\n",
        "for age, count in users_tuple:\n",
        "    print(f\"age : {age} - {count} users\")"
      ]
    },
    {
      "cell_type": "markdown",
      "metadata": {
        "id": "auL1b0HN2azw"
      },
      "source": [
        "### SQL\n",
        "* SELECT *\n",
        "* FROM users\n",
        "* WHERE name==\"Alamgir\"\n",
        "* GROUP BY age;"
      ]
    },
    {
      "cell_type": "code",
      "execution_count": 17,
      "metadata": {
        "colab": {
          "base_uri": "https://localhost:8080/"
        },
        "id": "J-C9KJ3Y2azw",
        "outputId": "df09451a-c71e-4e62-f0bb-575b9535d25f"
      },
      "outputs": [
        {
          "output_type": "stream",
          "name": "stdout",
          "text": [
            "user age : 15 user name :Alamgir\n"
          ]
        }
      ],
      "source": [
        "only_name=True\n",
        "group_by_age=True\n",
        "\n",
        "users=session.query(User)\n",
        "\n",
        "if only_name:\n",
        "    users=users.filter(User.name==\"Alamgir\")\n",
        "\n",
        "if group_by_age:\n",
        "    users=users.group_by(User.age)\n",
        "\n",
        "users=users.all()\n",
        "for user in users:\n",
        "    print(f\"user age : {user.age} user name :{user.name}\")"
      ]
    },
    {
      "cell_type": "markdown",
      "metadata": {
        "id": "XbpKML_f2azx"
      },
      "source": [
        "# Python SQLAlchemy ORM - 1 to MANY Relationships"
      ]
    },
    {
      "cell_type": "markdown",
      "metadata": {
        "id": "L0D5XSTk2azx"
      },
      "source": [
        "### One User → Many Addresses\n",
        "* Each User can have multiple Address records.\n",
        "* The addresses relationship in User establishes this connection.\n",
        "* The user_id foreign key in Address links each address to a specific user."
      ]
    },
    {
      "cell_type": "code",
      "execution_count": 18,
      "metadata": {
        "colab": {
          "base_uri": "https://localhost:8080/"
        },
        "id": "Trcwvgl72azx",
        "outputId": "c83e01c4-807c-420d-9f10-5a313128d302"
      },
      "outputs": [
        {
          "output_type": "stream",
          "name": "stdout",
          "text": [
            "\n",
            "User -> ID: 1, Name: John Doe, Age: 52\n",
            "   Address -> ID: 1, City: New York, State: NY, Zip: 10001\n",
            "   Address -> ID: 2, City: Los Angeles, State: CA, Zip: 90001\n",
            "\n",
            "User -> ID: 2, Name: Jane Smith, Age: 34\n",
            "   Address -> ID: 3, City: Chicago, State: IL, Zip: 60601\n"
          ]
        }
      ],
      "source": [
        "from sqlalchemy import Column, ForeignKey, Integer, String, create_engine\n",
        "from sqlalchemy.orm import declarative_base, sessionmaker, relationship\n",
        "\n",
        "# Database Connection\n",
        "bd_url = \"sqlite:///database1.db\"\n",
        "engine = create_engine(bd_url, echo=False)  # Set echo=False to hide SQL logs\n",
        "\n",
        "# Session Setup\n",
        "Session = sessionmaker(bind=engine)\n",
        "session = Session()\n",
        "\n",
        "# Base Model\n",
        "Base = declarative_base()\n",
        "\n",
        "class BaseModel(Base):\n",
        "    \"\"\"Abstract Base Model with an auto-incrementing primary key.\"\"\"\n",
        "    __abstract__ = True\n",
        "    id = Column(Integer, primary_key=True, autoincrement=True)\n",
        "\n",
        "# User Model\n",
        "class User(BaseModel):\n",
        "    __tablename__ = \"users\"\n",
        "\n",
        "    name = Column(String, nullable=False)\n",
        "    age = Column(Integer, nullable=False)\n",
        "\n",
        "    # Relationship with Address\n",
        "    addresses = relationship(\"Address\", back_populates=\"user\", cascade=\"all, delete-orphan\")\n",
        "\n",
        "    def __repr__(self):\n",
        "        return f\"<User(id={self.id}, name='{self.name}')>\"\n",
        "\n",
        "# Address Model\n",
        "class Address(BaseModel):\n",
        "    __tablename__ = \"addresses\"\n",
        "\n",
        "    city = Column(String, nullable=False)\n",
        "    state = Column(String, nullable=False)\n",
        "    zip_code = Column(String, nullable=False)  # Zip codes can have leading zeros\n",
        "    user_id = Column(Integer, ForeignKey(\"users.id\"), nullable=False)\n",
        "\n",
        "    # Relationship with User\n",
        "    user = relationship(\"User\", back_populates=\"addresses\")\n",
        "\n",
        "    def __repr__(self):\n",
        "        return f\"<Address(id={self.id}, city='{self.city}', state='{self.state}', zip='{self.zip_code}')>\"\n",
        "\n",
        "# Create tables in the database\n",
        "Base.metadata.create_all(engine)\n",
        "\n",
        "# Create Users\n",
        "user1 = User(name=\"John Doe\", age=52)\n",
        "user2 = User(name=\"Jane Smith\", age=34)\n",
        "\n",
        "# Create Addresses\n",
        "address1 = Address(city=\"New York\", state=\"NY\", zip_code=\"10001\", user=user1)\n",
        "address2 = Address(city=\"Los Angeles\", state=\"CA\", zip_code=\"90001\", user=user1)\n",
        "address3 = Address(city=\"Chicago\", state=\"IL\", zip_code=\"60601\", user=user2)\n",
        "\n",
        "# Add users (which automatically adds addresses due to relationships)\n",
        "session.add_all([user1, user2])\n",
        "session.commit()\n",
        "\n",
        "# Fetch users from the database\n",
        "users = session.query(User).all()\n",
        "\n",
        "# Display User and Address Data\n",
        "for user in users:\n",
        "    print(f\"\\nUser -> ID: {user.id}, Name: {user.name}, Age: {user.age}\")\n",
        "    for addr in user.addresses:\n",
        "        print(f\"   Address -> ID: {addr.id}, City: {addr.city}, State: {addr.state}, Zip: {addr.zip_code}\")\n",
        "\n",
        "# Close session\n",
        "session.close()\n"
      ]
    },
    {
      "cell_type": "code",
      "execution_count": 19,
      "metadata": {
        "colab": {
          "base_uri": "https://localhost:8080/"
        },
        "id": "7tDfEnUq2azy",
        "outputId": "29214c01-e21e-4a13-c88f-84672d3cb0cd"
      },
      "outputs": [
        {
          "output_type": "stream",
          "name": "stdout",
          "text": [
            "\n",
            "User -> ID: 1, Name: John Doe, Age: 52\n",
            "   Address -> ID: 1, City: New York, State: NY, Zip: 10001\n",
            "   Address -> ID: 2, City: Los Angeles, State: CA, Zip: 90001\n",
            "\n",
            "User -> ID: 2, Name: Jane Smith, Age: 34\n",
            "   Address -> ID: 3, City: Chicago, State: IL, Zip: 60601\n"
          ]
        }
      ],
      "source": [
        "# Import necessary SQLAlchemy modules\n",
        "from sqlalchemy import Column, ForeignKey, Integer, String, create_engine\n",
        "from sqlalchemy.orm import declarative_base, sessionmaker, relationship\n",
        "\n",
        "# Database Connection\n",
        "bd_url = \"sqlite:///database2.db\"  # Define the SQLite database URL\n",
        "engine = create_engine(bd_url, echo=False)  # Create the database engine, echo=False to hide SQL logs\n",
        "\n",
        "# Session Setup\n",
        "Session = sessionmaker(bind=engine)  # Create a session factory bound to the engine\n",
        "session = Session()  # Instantiate a session for database operations\n",
        "\n",
        "# Base Model\n",
        "Base = declarative_base()  # Create a base class for declarative models\n",
        "\n",
        "class BaseModel(Base):\n",
        "    \"\"\"Abstract Base Model with an auto-incrementing primary key.\"\"\"\n",
        "    __abstract__ = True  # Mark this class as abstract (not mapped to a table)\n",
        "    id = Column(Integer, primary_key=True, autoincrement=True)  # Primary key column with auto-increment\n",
        "\n",
        "# User Model\n",
        "class User(BaseModel):  # Inherit from BaseModel\n",
        "    __tablename__ = \"users\"  # Define the table name in the database\n",
        "\n",
        "    name = Column(String, nullable=False)  # Column for storing user names (cannot be NULL)\n",
        "    age = Column(Integer, nullable=False)  # Column for storing user age (cannot be NULL)\n",
        "\n",
        "    # Define one-to-many relationship with Address\n",
        "    addresses = relationship(\"Address\", back_populates=\"user\", cascade=\"all, delete-orphan\")\n",
        "    # - \"back_populates\" creates a bidirectional relationship with Address.user\n",
        "    # - \"cascade='all, delete-orphan'\" ensures that deleting a user deletes all associated addresses\n",
        "\n",
        "    def __repr__(self):\n",
        "        \"\"\"String representation of a User object.\"\"\"\n",
        "        return f\"<User(id={self.id}, name='{self.name}')>\"\n",
        "\n",
        "# Address Model\n",
        "class Address(BaseModel):  # Inherit from BaseModel\n",
        "    __tablename__ = \"addresses\"  # Define the table name in the database\n",
        "\n",
        "    city = Column(String, nullable=False)  # Column for city (cannot be NULL)\n",
        "    state = Column(String, nullable=False)  # Column for state (cannot be NULL)\n",
        "    zip_code = Column(String, nullable=False)  # Column for ZIP code (string to allow leading zeros)\n",
        "    user_id = Column(Integer, ForeignKey(\"users.id\"), nullable=False)  # Foreign key referencing User's id\n",
        "\n",
        "    # Define many-to-one relationship with User\n",
        "    user = relationship(\"User\", back_populates=\"addresses\")\n",
        "    # - \"back_populates\" links this relationship to User.addresses\n",
        "\n",
        "    def __repr__(self):\n",
        "        \"\"\"String representation of an Address object.\"\"\"\n",
        "        return f\"<Address(id={self.id}, city='{self.city}', state='{self.state}', zip='{self.zip_code}')>\"\n",
        "\n",
        "# Create tables in the database\n",
        "Base.metadata.create_all(engine)  # Generate tables based on defined models\n",
        "\n",
        "# Create Users\n",
        "user1 = User(name=\"John Doe\", age=52)  # Create a user instance\n",
        "user2 = User(name=\"Jane Smith\", age=34)  # Create another user instance\n",
        "\n",
        "# Create Addresses\n",
        "address1 = Address(city=\"New York\", state=\"NY\", zip_code=\"10001\", user=user1)  # Address linked to user1\n",
        "address2 = Address(city=\"Los Angeles\", state=\"CA\", zip_code=\"90001\", user=user1)  # Another address for user1\n",
        "address3 = Address(city=\"Chicago\", state=\"IL\", zip_code=\"60601\", user=user2)  # Address for user2\n",
        "\n",
        "# Add users (which also adds related addresses due to relationships)\n",
        "session.add_all([user1, user2])  # Add user instances to the session\n",
        "session.commit()  # Commit the changes to the database\n",
        "\n",
        "# Fetch all users from the database\n",
        "users = session.query(User).all()  # Retrieve all user records\n",
        "\n",
        "# Display User and Address Data\n",
        "for user in users:\n",
        "    print(f\"\\nUser -> ID: {user.id}, Name: {user.name}, Age: {user.age}\")  # Print user details\n",
        "    for addr in user.addresses:  # Iterate through the user's addresses\n",
        "        print(f\"   Address -> ID: {addr.id}, City: {addr.city}, State: {addr.state}, Zip: {addr.zip_code}\")  # Print address details\n",
        "\n",
        "# Close session\n",
        "session.close()  # Close the database session\n"
      ]
    },
    {
      "cell_type": "markdown",
      "metadata": {
        "id": "_SqCyxLN2azy"
      },
      "source": [
        "# One-to-One Relationship in SQLAlchemy\n",
        "* A one-to-one relationship means that each record in one table is associated with exactly one record in another table. In SQLAlchemy, this is implemented using the relationship() function along with a unique=True constraint on the foreign key."
      ]
    },
    {
      "cell_type": "code",
      "execution_count": 20,
      "metadata": {
        "colab": {
          "base_uri": "https://localhost:8080/"
        },
        "id": "xWzmVnlb2azy",
        "outputId": "52c2427d-6e9c-4105-e8cf-55ec2c237003"
      },
      "outputs": [
        {
          "output_type": "stream",
          "name": "stdout",
          "text": [
            "\n",
            "User -> ID: 1, Name: John Doe, Age: 52\n",
            "   Profile -> ID: 1, Bio: Software Engineer from NY, Phone: 123-456-7890\n",
            "\n",
            "User -> ID: 2, Name: Jane Smith, Age: 34\n",
            "   Profile -> ID: 2, Bio: Data Scientist from CA, Phone: 987-654-3210\n"
          ]
        }
      ],
      "source": [
        "# Import necessary SQLAlchemy modules\n",
        "from sqlalchemy import Column, ForeignKey, Integer, String, create_engine, UniqueConstraint\n",
        "from sqlalchemy.orm import declarative_base, sessionmaker, relationship\n",
        "\n",
        "# Database Connection\n",
        "bd_url = \"sqlite:///database3.db\"  # Define the SQLite database URL\n",
        "engine = create_engine(bd_url, echo=False)  # Create the database engine\n",
        "\n",
        "# Session Setup\n",
        "Session = sessionmaker(bind=engine)  # Create a session factory bound to the engine\n",
        "session = Session()  # Instantiate a session for database operations\n",
        "\n",
        "# Base Model\n",
        "Base = declarative_base()  # Create a base class for declarative models\n",
        "\n",
        "class BaseModel(Base):\n",
        "    \"\"\"Abstract Base Model with an auto-incrementing primary key.\"\"\"\n",
        "    __abstract__ = True\n",
        "    id = Column(Integer, primary_key=True, autoincrement=True)  # Primary key column with auto-increment\n",
        "\n",
        "# User Model (One side of the relationship)\n",
        "class User(BaseModel):\n",
        "    __tablename__ = \"users\"  # Define table name\n",
        "\n",
        "    name = Column(String, nullable=False)  # Column for user name\n",
        "    age = Column(Integer, nullable=False)  # Column for user age\n",
        "\n",
        "    # One-to-One Relationship with Profile\n",
        "    profile = relationship(\"Profile\", back_populates=\"user\", uselist=False, cascade=\"all, delete-orphan\")\n",
        "    # - `uselist=False` ensures one-to-one (instead of one-to-many)\n",
        "    # - `cascade=\"all, delete-orphan\"` deletes Profile when User is deleted\n",
        "\n",
        "    def __repr__(self):\n",
        "        return f\"<User(id={self.id}, name='{self.name}', age={self.age})>\"\n",
        "\n",
        "# Profile Model (Other side of the relationship)\n",
        "class Profile(BaseModel):\n",
        "    __tablename__ = \"profiles\"  # Define table name\n",
        "\n",
        "    bio = Column(String, nullable=False)  # Short biography column\n",
        "    phone = Column(String, nullable=False, unique=True)  # Phone number (must be unique)\n",
        "    user_id = Column(Integer, ForeignKey(\"users.id\"), nullable=False, unique=True)\n",
        "    # - `unique=True` ensures each profile is linked to exactly **one** user\n",
        "\n",
        "    # One-to-One Relationship with User\n",
        "    user = relationship(\"User\", back_populates=\"profile\")\n",
        "\n",
        "    def __repr__(self):\n",
        "        return f\"<Profile(id={self.id}, phone='{self.phone}', bio='{self.bio}')>\"\n",
        "\n",
        "# Create tables in the database\n",
        "Base.metadata.create_all(engine)\n",
        "\n",
        "# Create Users\n",
        "user1 = User(name=\"John Doe\", age=52)\n",
        "user2 = User(name=\"Jane Smith\", age=34)\n",
        "\n",
        "# Create Profiles (Each user gets exactly one profile)\n",
        "profile1 = Profile(bio=\"Software Engineer from NY\", phone=\"123-456-7890\", user=user1)\n",
        "profile2 = Profile(bio=\"Data Scientist from CA\", phone=\"987-654-3210\", user=user2)\n",
        "\n",
        "# Add users (automatically adding profiles due to relationships)\n",
        "session.add_all([user1, user2])\n",
        "session.commit()  # Commit changes to the database\n",
        "\n",
        "# Fetch users from the database\n",
        "users = session.query(User).all()\n",
        "\n",
        "# Display User and Profile Data\n",
        "for user in users:\n",
        "    print(f\"\\nUser -> ID: {user.id}, Name: {user.name}, Age: {user.age}\")\n",
        "    print(f\"   Profile -> ID: {user.profile.id}, Bio: {user.profile.bio}, Phone: {user.profile.phone}\")\n",
        "\n",
        "# Close session\n",
        "session.close()\n"
      ]
    },
    {
      "cell_type": "markdown",
      "source": [
        "# Insert new users and profiles into the existing database"
      ],
      "metadata": {
        "id": "p1B0oG1CQGIl"
      }
    },
    {
      "cell_type": "code",
      "execution_count": 21,
      "metadata": {
        "colab": {
          "base_uri": "https://localhost:8080/"
        },
        "id": "-_jpGVBj2azz",
        "outputId": "d9243eda-e07e-460e-b0dc-ff83350b9465"
      },
      "outputs": [
        {
          "output_type": "stream",
          "name": "stdout",
          "text": [
            "\n",
            "User -> ID: 1, Name: John Doe, Age: 52\n",
            "   Profile -> ID: 1, Bio: Software Engineer from NY, Phone: 123-456-7890\n",
            "\n",
            "User -> ID: 2, Name: Jane Smith, Age: 34\n",
            "   Profile -> ID: 2, Bio: Data Scientist from CA, Phone: 987-654-3210\n",
            "\n",
            "User -> ID: 3, Name: Charlie Brown, Age: 30\n",
            "   Profile -> ID: 3, Bio: Blockchain Developer from SF, Phone: 555-111-2222\n",
            "\n",
            "User -> ID: 4, Name: Emily Davis, Age: 26\n",
            "   Profile -> ID: 4, Bio: Cybersecurity Expert from NY, Phone: 666-333-4444\n"
          ]
        }
      ],
      "source": [
        "# Insert new users and profiles into the existing database\n",
        "new_users = [\n",
        "    User(name=\"Charlie Brown\", age=30),\n",
        "    User(name=\"Emily Davis\", age=26),\n",
        "]\n",
        "\n",
        "new_profiles = [\n",
        "    Profile(bio=\"Blockchain Developer from SF\", phone=\"555-111-2222\", user=new_users[0]),\n",
        "    Profile(bio=\"Cybersecurity Expert from NY\", phone=\"666-333-4444\", user=new_users[1]),\n",
        "]\n",
        "\n",
        "# Add new users to the session\n",
        "session.add_all(new_users)\n",
        "\n",
        "# Commit changes to the database\n",
        "session.commit()\n",
        "\n",
        "# Fetch and display all users and profiles to verify insertion\n",
        "users = session.query(User).all()\n",
        "\n",
        "for user in users:\n",
        "    print(f\"\\nUser -> ID: {user.id}, Name: {user.name}, Age: {user.age}\")\n",
        "    print(f\"   Profile -> ID: {user.profile.id}, Bio: {user.profile.bio}, Phone: {user.profile.phone}\")\n"
      ]
    },
    {
      "cell_type": "markdown",
      "source": [
        "# New Table: Orders (Each User can have multiple Orders)"
      ],
      "metadata": {
        "id": "RNhGW3GbQaJm"
      }
    },
    {
      "cell_type": "code",
      "execution_count": 22,
      "metadata": {
        "colab": {
          "base_uri": "https://localhost:8080/"
        },
        "id": "6Thuw5kq2az_",
        "outputId": "ddf1d349-dd95-43b1-efbc-95c6b3bf42d7"
      },
      "outputs": [
        {
          "output_type": "stream",
          "name": "stdout",
          "text": [
            "\n",
            "Order -> ID: 1, Order Number: ORD001, Amount: 200, User ID: 1\n",
            "\n",
            "Order -> ID: 2, Order Number: ORD002, Amount: 350, User ID: 2\n",
            "\n",
            "Order -> ID: 3, Order Number: ORD003, Amount: 150, User ID: 3\n"
          ]
        }
      ],
      "source": [
        "# New Table: Orders (Each User can have multiple Orders)\n",
        "class Order(BaseModel):\n",
        "    __tablename__ = \"orders\"  # Define table name\n",
        "\n",
        "    order_number = Column(String, unique=True, nullable=False)  # Unique order number\n",
        "    amount = Column(Integer, nullable=False)  # Order amount\n",
        "    user_id = Column(Integer, ForeignKey(\"users.id\"), nullable=False)  # Foreign Key to User table\n",
        "\n",
        "    # Relationship with User\n",
        "    user = relationship(\"User\", back_populates=\"orders\")\n",
        "\n",
        "    def __repr__(self):\n",
        "        return f\"<Order(id={self.id}, order_number='{self.order_number}', amount={self.amount})>\"\n",
        "\n",
        "# Add the relationship in the User model\n",
        "User.orders = relationship(\"Order\", back_populates=\"user\", cascade=\"all, delete-orphan\")\n",
        "# Create the new \"orders\" table in the database\n",
        "Base.metadata.create_all(engine)\n",
        "# Insert orders for existing users\n",
        "order1 = Order(order_number=\"ORD001\", amount=200, user=users[0])  # Assigning to first user\n",
        "order2 = Order(order_number=\"ORD002\", amount=350, user=users[1])  # Assigning to second user\n",
        "order3 = Order(order_number=\"ORD003\", amount=150, user=users[2])  # Assigning to third user\n",
        "\n",
        "# Add new orders to the session\n",
        "session.add_all([order1, order2, order3])\n",
        "\n",
        "# Commit changes to save data\n",
        "session.commit()\n",
        "\n",
        "# Fetch and display all orders\n",
        "orders = session.query(Order).all()\n",
        "\n",
        "for order in orders:\n",
        "    print(f\"\\nOrder -> ID: {order.id}, Order Number: {order.order_number}, Amount: {order.amount}, User ID: {order.user_id}\")\n"
      ]
    },
    {
      "cell_type": "markdown",
      "source": [
        "# Fetch all users and their orders"
      ],
      "metadata": {
        "id": "Du2izdrdQfUj"
      }
    },
    {
      "cell_type": "code",
      "execution_count": 23,
      "metadata": {
        "colab": {
          "base_uri": "https://localhost:8080/"
        },
        "id": "dziTFc5x2a0A",
        "outputId": "0e858d54-7c44-484b-9903-21581e18a619"
      },
      "outputs": [
        {
          "output_type": "stream",
          "name": "stdout",
          "text": [
            "\n",
            "User -> ID: 1, Name: John Doe, Age: 52\n",
            "   Order -> ID: 1, Order Number: ORD001, Amount: 200\n",
            "\n",
            "User -> ID: 2, Name: Jane Smith, Age: 34\n",
            "   Order -> ID: 2, Order Number: ORD002, Amount: 350\n",
            "\n",
            "User -> ID: 3, Name: Charlie Brown, Age: 30\n",
            "   Order -> ID: 3, Order Number: ORD003, Amount: 150\n",
            "\n",
            "User -> ID: 4, Name: Emily Davis, Age: 26\n"
          ]
        }
      ],
      "source": [
        "# Fetch all users and their orders\n",
        "users = session.query(User).all()\n",
        "\n",
        "for user in users:\n",
        "    print(f\"\\nUser -> ID: {user.id}, Name: {user.name}, Age: {user.age}\")\n",
        "\n",
        "    # Print user orders\n",
        "    for order in user.orders:\n",
        "        print(f\"   Order -> ID: {order.id}, Order Number: {order.order_number}, Amount: {order.amount}\")\n"
      ]
    },
    {
      "cell_type": "markdown",
      "metadata": {
        "id": "b9dCRUZk2a0A"
      },
      "source": [
        "# Python SQLAlchemy ORM - Many to Many Relationships\n",
        "* In SQLAlchemy ORM, a many-to-many relationship occurs when multiple records in one table are related to multiple records in another table. This relationship requires an association table (also called a \"link table\" or \"junction table\") to store the relationships between the two entities."
      ]
    },
    {
      "cell_type": "code",
      "execution_count": 24,
      "metadata": {
        "colab": {
          "base_uri": "https://localhost:8080/"
        },
        "id": "DqFRaiEd2a0A",
        "outputId": "116f7d0e-54fb-429d-b37c-3b04e3a5a82e"
      },
      "outputs": [
        {
          "output_type": "stream",
          "name": "stdout",
          "text": [
            "Authors of 'Python 101':\n",
            "John Doe\n",
            "Jane Smith\n",
            "\n",
            "Books written by John Doe:\n",
            "Python 101\n",
            "Learning SQLAlchemy\n",
            "\n",
            "Books written by Jane Smith:\n",
            "Python 101\n"
          ]
        }
      ],
      "source": [
        "from sqlalchemy import create_engine, Column, Integer, String, ForeignKey, Table\n",
        "from sqlalchemy.orm import declarative_base\n",
        "from sqlalchemy.orm import relationship, sessionmaker\n",
        "\n",
        "# Define the base class for declarative models\n",
        "Base = declarative_base()\n",
        "\n",
        "# Association Table for Many-to-Many Relationship between Book and Author\n",
        "# This table will hold the relationships between books and authors\n",
        "book_author_association = Table('book_author', Base.metadata,\n",
        "    Column('book_id', Integer, ForeignKey('books.id'), primary_key=True),\n",
        "    Column('author_id', Integer, ForeignKey('authors.id'), primary_key=True)\n",
        ")\n",
        "\n",
        "# Define the Book class (represents the 'books' table)\n",
        "class Book(Base):\n",
        "    __tablename__ = 'books'\n",
        "\n",
        "    # Primary key column\n",
        "    id = Column(Integer, primary_key=True)\n",
        "\n",
        "    # Column for the book title\n",
        "    title = Column(String)\n",
        "\n",
        "    # Many-to-Many Relationship: Book to Authors\n",
        "    # This establishes the many-to-many relationship between books and authors\n",
        "    authors = relationship(\"Author\", secondary=book_author_association, back_populates=\"books\")\n",
        "\n",
        "# Define the Author class (represents the 'authors' table)\n",
        "class Author(Base):\n",
        "    __tablename__ = 'authors'\n",
        "\n",
        "    # Primary key column\n",
        "    id = Column(Integer, primary_key=True)\n",
        "\n",
        "    # Column for the author's name\n",
        "    name = Column(String)\n",
        "\n",
        "    # Many-to-Many Relationship: Author to Books\n",
        "    # This establishes the many-to-many relationship between authors and books\n",
        "    books = relationship(\"Book\", secondary=book_author_association, back_populates=\"authors\")\n",
        "\n",
        "# Create SQLite database and tables in memory (used for quick prototyping)\n",
        "engine = create_engine('sqlite:///:memory:')  # Using an in-memory SQLite database\n",
        "Base.metadata.create_all(engine)  # Create tables in the database\n",
        "\n",
        "# Create a session to interact with the database\n",
        "Session = sessionmaker(bind=engine)  # Binding session to the engine\n",
        "session = Session()  # Initialize the session\n",
        "\n",
        "# Insert sample data into the 'books' and 'authors' tables\n",
        "book1 = Book(title=\"Python 101\")\n",
        "book2 = Book(title=\"Learning SQLAlchemy\")\n",
        "author1 = Author(name=\"John Doe\")\n",
        "author2 = Author(name=\"Jane Smith\")\n",
        "\n",
        "# Establish relationships between books and authors\n",
        "book1.authors = [author1, author2]  # Book 1 has John Doe and Jane Smith as authors\n",
        "book2.authors = [author1]           # Book 2 has only John Doe as an author\n",
        "\n",
        "# Add objects to the session and commit the changes to the database\n",
        "session.add(book1)  # Add book1 to the session\n",
        "session.add(book2)  # Add book2 to the session\n",
        "session.add(author1)  # Add author1 to the session\n",
        "session.add(author2)  # Add author2 to the session\n",
        "session.commit()  # Commit the session to save changes to the database\n",
        "\n",
        "# Query and print results\n",
        "\n",
        "# Query all authors for the book \"Python 101\"\n",
        "book = session.query(Book).filter_by(title=\"Python 101\").first()  # Fetch the book object\n",
        "print(f\"Authors of '{book.title}':\")  # Print the title of the book\n",
        "for author in book.authors:  # Loop through each author for the selected book\n",
        "    print(author.name)  # Print the author's name\n",
        "\n",
        "# Query all books written by \"John Doe\"\n",
        "author = session.query(Author).filter_by(name=\"John Doe\").first()  # Fetch the author object\n",
        "print(f\"\\nBooks written by {author.name}:\")  # Print the author's name\n",
        "for book in author.books:  # Loop through each book for the selected author\n",
        "    print(book.title)  # Print the book's title\n",
        "\n",
        "# Query all books written by \"Jane Smith\"\n",
        "author = session.query(Author).filter_by(name=\"Jane Smith\").first()  # Fetch the author object\n",
        "print(f\"\\nBooks written by {author.name}:\")  # Print the author's name\n",
        "for book in author.books:  # Loop through each book for the selected author\n",
        "    print(book.title)  # Print the book's title\n"
      ]
    },
    {
      "cell_type": "code",
      "execution_count": 25,
      "metadata": {
        "colab": {
          "base_uri": "https://localhost:8080/"
        },
        "id": "G2XB1MCN2a0B",
        "outputId": "de5d9c02-98a2-4932-dff6-f1c578c0e812"
      },
      "outputs": [
        {
          "output_type": "stream",
          "name": "stdout",
          "text": [
            "Authors of 'Python 101':\n",
            "John Doe\n",
            "Jane Smith\n",
            "\n",
            "Books written by John Doe:\n",
            "Python 101\n",
            "Learning SQLAlchemy\n",
            "\n",
            "Books written by Jane Smith:\n",
            "Python 101\n"
          ]
        }
      ],
      "source": [
        "from sqlalchemy import create_engine, Column, Integer, String, ForeignKey, Table\n",
        "from sqlalchemy.orm import declarative_base\n",
        "from sqlalchemy.orm import relationship, sessionmaker\n",
        "\n",
        "# Define the base class for declarative models\n",
        "Base = declarative_base()\n",
        "\n",
        "# Association Table for Many-to-Many Relationship between Book and Author\n",
        "# This table will hold the relationships between books and authors\n",
        "book_author_association = Table('book_author', Base.metadata,\n",
        "    Column('book_id', Integer, ForeignKey('books.id'), primary_key=True),\n",
        "    Column('author_id', Integer, ForeignKey('authors.id'), primary_key=True)\n",
        ")\n",
        "\n",
        "# Define the Book class (represents the 'books' table)\n",
        "class Book(Base):\n",
        "    __tablename__ = 'books'\n",
        "\n",
        "    # Primary key column\n",
        "    id = Column(Integer, primary_key=True)\n",
        "\n",
        "    # Column for the book title\n",
        "    title = Column(String)\n",
        "\n",
        "    # Many-to-Many Relationship: Book to Authors\n",
        "    # This establishes the many-to-many relationship between books and authors\n",
        "    authors = relationship(\"Author\", secondary=book_author_association, back_populates=\"books\")\n",
        "\n",
        "# Define the Author class (represents the 'authors' table)\n",
        "class Author(Base):\n",
        "    __tablename__ = 'authors'\n",
        "\n",
        "    # Primary key column\n",
        "    id = Column(Integer, primary_key=True)\n",
        "\n",
        "    # Column for the author's name\n",
        "    name = Column(String)\n",
        "\n",
        "    # Many-to-Many Relationship: Author to Books\n",
        "    # This establishes the many-to-many relationship between authors and books\n",
        "    books = relationship(\"Book\", secondary=book_author_association, back_populates=\"authors\")\n",
        "\n",
        "# Create SQLite database and tables in memory (used for quick prototyping)\n",
        "engine = create_engine('sqlite:///my_database2.db')  # Using SQLite database\n",
        "Base.metadata.create_all(engine)  # Create tables in the database\n",
        "\n",
        "# Create a session to interact with the database\n",
        "Session = sessionmaker(bind=engine)  # Binding session to the engine\n",
        "session = Session()  # Initialize the session\n",
        "\n",
        "# Insert sample data into the 'books' and 'authors' tables\n",
        "book1 = Book(title=\"Python 101\")\n",
        "book2 = Book(title=\"Learning SQLAlchemy\")\n",
        "author1 = Author(name=\"John Doe\")\n",
        "author2 = Author(name=\"Jane Smith\")\n",
        "\n",
        "# Establish relationships between books and authors\n",
        "book1.authors = [author1, author2]  # Book 1 has John Doe and Jane Smith as authors\n",
        "book2.authors = [author1]           # Book 2 has only John Doe as an author\n",
        "\n",
        "# Add objects to the session and commit the changes to the database\n",
        "session.add(book1)  # Add book1 to the session\n",
        "session.add(book2)  # Add book2 to the session\n",
        "session.add(author1)  # Add author1 to the session\n",
        "session.add(author2)  # Add author2 to the session\n",
        "session.commit()  # Commit the session to save changes to the database\n",
        "\n",
        "# Query and print results\n",
        "\n",
        "# Query all authors for the book \"Python 101\"\n",
        "book = session.query(Book).filter_by(title=\"Python 101\").first()  # Fetch the book object\n",
        "print(f\"Authors of '{book.title}':\")  # Print the title of the book\n",
        "for author in book.authors:  # Loop through each author for the selected book\n",
        "    print(author.name)  # Print the author's name\n",
        "\n",
        "# Query all books written by \"John Doe\"\n",
        "author = session.query(Author).filter_by(name=\"John Doe\").first()  # Fetch the author object\n",
        "print(f\"\\nBooks written by {author.name}:\")  # Print the author's name\n",
        "for book in author.books:  # Loop through each book for the selected author\n",
        "    print(book.title)  # Print the book's title\n",
        "\n",
        "# Query all books written by \"Jane Smith\"\n",
        "author = session.query(Author).filter_by(name=\"Jane Smith\").first()  # Fetch the author object\n",
        "print(f\"\\nBooks written by {author.name}:\")  # Print the author's name\n",
        "for book in author.books:  # Loop through each book for the selected author\n",
        "    print(book.title)  # Print the book's title\n"
      ]
    },
    {
      "cell_type": "markdown",
      "source": [
        "# Insert more sample data into the 'books' and 'authors' tables"
      ],
      "metadata": {
        "id": "gqBaRPsUQ7zz"
      }
    },
    {
      "cell_type": "code",
      "execution_count": 26,
      "metadata": {
        "colab": {
          "base_uri": "https://localhost:8080/"
        },
        "id": "Kb_PXRQ-2a0B",
        "outputId": "8696c9c2-c9d5-48f1-84d9-3af0832c7919"
      },
      "outputs": [
        {
          "output_type": "stream",
          "name": "stdout",
          "text": [
            "Authors of 'Advanced Python Programming':\n",
            "John Doe\n",
            "Alice Johnson\n",
            "\n",
            "Books written by Alice Johnson:\n",
            "Advanced Python Programming\n",
            "\n",
            "Books written by Bob Brown:\n",
            "Introduction to Data Science\n"
          ]
        }
      ],
      "source": [
        "# Insert more sample data into the 'books' and 'authors' tables\n",
        "book3 = Book(title=\"Advanced Python Programming\")\n",
        "book4 = Book(title=\"Introduction to Data Science\")\n",
        "author3 = Author(name=\"Alice Johnson\")\n",
        "author4 = Author(name=\"Bob Brown\")\n",
        "\n",
        "# Establish relationships between books and authors\n",
        "book3.authors = [author1, author3]  # Book 3 has John Doe and Alice Johnson as authors\n",
        "book4.authors = [author2, author4]  # Book 4 has Jane Smith and Bob Brown as authors\n",
        "\n",
        "# Add new objects to the session and commit the changes to the database\n",
        "session.add(book3)  # Add book3 to the session\n",
        "session.add(book4)  # Add book4 to the session\n",
        "session.add(author3)  # Add author3 to the session\n",
        "session.add(author4)  # Add author4 to the session\n",
        "session.commit()  # Commit the session to save changes to the database\n",
        "\n",
        "# Query and print results to confirm the data has been added\n",
        "\n",
        "# Query all authors for the book \"Advanced Python Programming\"\n",
        "book = session.query(Book).filter_by(title=\"Advanced Python Programming\").first()\n",
        "print(f\"Authors of '{book.title}':\")\n",
        "for author in book.authors:\n",
        "    print(author.name)\n",
        "\n",
        "# Query all books written by \"Alice Johnson\"\n",
        "author = session.query(Author).filter_by(name=\"Alice Johnson\").first()\n",
        "print(f\"\\nBooks written by {author.name}:\")\n",
        "for book in author.books:\n",
        "    print(book.title)\n",
        "\n",
        "# Query all books written by \"Bob Brown\"\n",
        "author = session.query(Author).filter_by(name=\"Bob Brown\").first()\n",
        "print(f\"\\nBooks written by {author.name}:\")\n",
        "for book in author.books:\n",
        "    print(book.title)\n"
      ]
    },
    {
      "cell_type": "markdown",
      "source": [
        "# Query all books and their authors"
      ],
      "metadata": {
        "id": "ewK4epMlRCCT"
      }
    },
    {
      "cell_type": "code",
      "execution_count": 27,
      "metadata": {
        "colab": {
          "base_uri": "https://localhost:8080/"
        },
        "id": "ECDtP_Qs2a0C",
        "outputId": "8910836a-8573-4a55-8973-967fe262c33b"
      },
      "outputs": [
        {
          "output_type": "stream",
          "name": "stdout",
          "text": [
            "Books and their Authors:\n",
            "\n",
            "Book: Python 101\n",
            "Authors:\n",
            "- John Doe\n",
            "- Jane Smith\n",
            "\n",
            "Book: Learning SQLAlchemy\n",
            "Authors:\n",
            "- John Doe\n",
            "\n",
            "Book: Advanced Python Programming\n",
            "Authors:\n",
            "- John Doe\n",
            "- Alice Johnson\n",
            "\n",
            "Book: Introduction to Data Science\n",
            "Authors:\n",
            "- Jane Smith\n",
            "- Bob Brown\n",
            "\n",
            "Authors and their Books:\n",
            "\n",
            "Author: John Doe\n",
            "Books:\n",
            "- Python 101\n",
            "- Learning SQLAlchemy\n",
            "- Advanced Python Programming\n",
            "\n",
            "Author: Jane Smith\n",
            "Books:\n",
            "- Python 101\n",
            "- Introduction to Data Science\n",
            "\n",
            "Author: Alice Johnson\n",
            "Books:\n",
            "- Advanced Python Programming\n",
            "\n",
            "Author: Bob Brown\n",
            "Books:\n",
            "- Introduction to Data Science\n"
          ]
        }
      ],
      "source": [
        "# Query all books and their authors\n",
        "print(\"Books and their Authors:\")\n",
        "books = session.query(Book).all()  # Fetch all books from the database\n",
        "for book in books:\n",
        "    print(f\"\\nBook: {book.title}\")\n",
        "    print(\"Authors:\")\n",
        "    for author in book.authors:\n",
        "        print(f\"- {author.name}\")\n",
        "\n",
        "# Query all authors and their books\n",
        "print(\"\\nAuthors and their Books:\")\n",
        "authors = session.query(Author).all()  # Fetch all authors from the database\n",
        "for author in authors:\n",
        "    print(f\"\\nAuthor: {author.name}\")\n",
        "    print(\"Books:\")\n",
        "    for book in author.books:\n",
        "        print(f\"- {book.title}\")\n"
      ]
    },
    {
      "cell_type": "markdown",
      "metadata": {
        "id": "9mERX0QU2a0C"
      },
      "source": [
        "# Python SQLAlchemy ORM - Relationship Loading Techniques\n",
        "* SQLAlchemy provides several ways to manage how related objects are loaded, allowing you to control the performance of your queries and the number of database queries executed. When you work with relationships between tables (e.g., one-to-many, many-to-one), SQLAlchemy offers different techniques to load related objects. These techniques are classified into Lazy Loading, Eager Loading, and Explicit Loading."
      ]
    },
    {
      "cell_type": "code",
      "execution_count": 28,
      "metadata": {
        "colab": {
          "base_uri": "https://localhost:8080/"
        },
        "id": "w0rT6KlC2a0C",
        "outputId": "b6ad2644-1acf-4918-c688-3ee83f1457f2"
      },
      "outputs": [
        {
          "output_type": "stream",
          "name": "stdout",
          "text": [
            "Lazy Loading (Default):\n",
            "Parent: Parent 1\n",
            "Children: ['Child 1', 'Child 2']\n",
            "\n",
            "Eager Loading with joinedload:\n",
            "Parent: Parent 1\n",
            "Children: ['Child 1', 'Child 2']\n",
            "\n",
            "Eager Loading with subqueryload:\n",
            "Parent: Parent 1\n",
            "Children: ['Child 1', 'Child 2']\n",
            "\n",
            "Eager Loading with selectinload:\n",
            "Parent: Parent 1\n",
            "Children: ['Child 1', 'Child 2']\n",
            "\n",
            "Deferred Loading (Description column):\n",
            "Child Name: Child 1\n",
            "Child Description (Deferred): Description of Child 1\n",
            "\n",
            "Dynamic Loading (Filtered Children):\n",
            "Filtered Children: ['Child 1']\n"
          ]
        }
      ],
      "source": [
        "from sqlalchemy import create_engine, Column, Integer, String, ForeignKey\n",
        "from sqlalchemy.orm import declarative_base\n",
        "from sqlalchemy.orm import sessionmaker, relationship, joinedload, subqueryload, selectinload, deferred\n",
        "\n",
        "# Define the base class for declarative models\n",
        "Base = declarative_base()\n",
        "\n",
        "# Define the Parent model\n",
        "class Parent(Base):\n",
        "    __tablename__ = 'parents'\n",
        "    id = Column(Integer, primary_key=True)  # Parent's primary key\n",
        "    name = Column(String)  # Parent's name\n",
        "    children = relationship(\"Child\", back_populates=\"parent\")  # Relationship to the Child model\n",
        "\n",
        "# Define the Child model\n",
        "class Child(Base):\n",
        "    __tablename__ = 'children'\n",
        "    id = Column(Integer, primary_key=True)  # Child's primary key\n",
        "    name = Column(String)  # Child's name\n",
        "    parent_id = Column(Integer, ForeignKey('parents.id'))  # Foreign key to Parent\n",
        "    parent = relationship(\"Parent\", back_populates=\"children\")  # Relationship back to Parent\n",
        "    description = deferred(Column(String))  # Deferred loading of the description column\n",
        "\n",
        "# Set up an in-memory SQLite database and create tables\n",
        "engine = create_engine('sqlite:///loading.db')\n",
        "Base.metadata.create_all(engine)  # Create the tables in the database\n",
        "Session = sessionmaker(bind=engine)  # Create a session maker\n",
        "session = Session()  # Create a session instance\n",
        "\n",
        "# Create some sample data and add it to the session\n",
        "parent = Parent(name=\"Parent 1\", children=[Child(name=\"Child 1\", description=\"Description of Child 1\"),\n",
        "                                            Child(name=\"Child 2\", description=\"Description of Child 2\")])\n",
        "session.add(parent)  # Add the parent object to the session\n",
        "session.commit()  # Commit the transaction to the database\n",
        "\n",
        "# ---------------------------------------------------------\n",
        "# Example 1: Lazy Loading (Default)\n",
        "parent_lazy = session.query(Parent).first()  # Query for the first parent\n",
        "print(\"Lazy Loading (Default):\")\n",
        "print(f\"Parent: {parent_lazy.name}\")\n",
        "# Accessing the children triggers a separate query to load the children\n",
        "print(f\"Children: {[child.name for child in parent_lazy.children]}\")\n",
        "\n",
        "# ---------------------------------------------------------\n",
        "# Example 2: Eager Loading with `joinedload`\n",
        "parent_joined = session.query(Parent).options(joinedload(Parent.children)).first()  # Eager load children with joinedload\n",
        "print(\"\\nEager Loading with joinedload:\")\n",
        "print(f\"Parent: {parent_joined.name}\")\n",
        "# Both parent and children are loaded in the same query (via a JOIN)\n",
        "print(f\"Children: {[child.name for child in parent_joined.children]}\")\n",
        "\n",
        "# ---------------------------------------------------------\n",
        "# Example 3: Eager Loading with `subqueryload`\n",
        "parent_subquery = session.query(Parent).options(subqueryload(Parent.children)).first()  # Eager load children with subqueryload\n",
        "print(\"\\nEager Loading with subqueryload:\")\n",
        "print(f\"Parent: {parent_subquery.name}\")\n",
        "# Parent is loaded first, and then a separate query is used to load the children\n",
        "print(f\"Children: {[child.name for child in parent_subquery.children]}\")\n",
        "\n",
        "# ---------------------------------------------------------\n",
        "# Example 4: Eager Loading with `selectinload`\n",
        "parent_selectin = session.query(Parent).options(selectinload(Parent.children)).first()  # Eager load children with selectinload\n",
        "print(\"\\nEager Loading with selectinload:\")\n",
        "print(f\"Parent: {parent_selectin.name}\")\n",
        "# A second query is issued to load the children, using a WHERE IN clause for efficiency\n",
        "print(f\"Children: {[child.name for child in parent_selectin.children]}\")\n",
        "\n",
        "# ---------------------------------------------------------\n",
        "# Example 5: Deferred Loading\n",
        "child = session.query(Child).first()  # Query for the first child\n",
        "print(\"\\nDeferred Loading (Description column):\")\n",
        "print(f\"Child Name: {child.name}\")\n",
        "# The description is loaded only when accessed\n",
        "print(f\"Child Description (Deferred): {child.description}\")\n",
        "\n",
        "# ---------------------------------------------------------\n",
        "# Example 6: Dynamic Loading for Collections\n",
        "parent_dynamic = session.query(Parent).first()  # Query for the first parent\n",
        "print(\"\\nDynamic Loading (Filtered Children):\")\n",
        "# Query the children dynamically using the session and apply a filter to select only \"Child 1\"\n",
        "filtered_children = session.query(Child).filter(Child.parent_id == parent_dynamic.id, Child.name == \"Child 1\").all()\n",
        "print(f\"Filtered Children: {[child.name for child in filtered_children]}\")  # Only \"Child 1\" will be loaded\n"
      ]
    },
    {
      "cell_type": "markdown",
      "source": [
        "# Insert more Parent and Child data into the existing database"
      ],
      "metadata": {
        "id": "zNgO3EkURJ7S"
      }
    },
    {
      "cell_type": "code",
      "execution_count": 29,
      "metadata": {
        "colab": {
          "base_uri": "https://localhost:8080/"
        },
        "id": "5eXpaKNx2a0C",
        "outputId": "56a70236-ee02-42c3-952b-d0e772eb6c8f"
      },
      "outputs": [
        {
          "output_type": "stream",
          "name": "stdout",
          "text": [
            "\n",
            "Inserted New Parents and Children:\n",
            "Parent: Parent 1\n",
            "  Child: Child 1 - Description: Description of Child 1\n",
            "  Child: Child 2 - Description: Description of Child 2\n",
            "Parent: Parent 2\n",
            "  Child: Child 3 - Description: Description of Child 3\n",
            "  Child: Child 4 - Description: Description of Child 4\n",
            "Parent: Parent 3\n",
            "  Child: Child 5 - Description: Description of Child 5\n",
            "  Child: Child 6 - Description: Description of Child 6\n",
            "Parent: Parent 4\n",
            "  Child: Child 7 - Description: Description of Child 7\n",
            "  Child: Child 8 - Description: Description of Child 8\n"
          ]
        }
      ],
      "source": [
        "# Insert more Parent and Child data into the existing database\n",
        "\n",
        "# Create new parents with children\n",
        "new_parent_1 = Parent(name=\"Parent 2\", children=[Child(name=\"Child 3\", description=\"Description of Child 3\"),\n",
        "                                                 Child(name=\"Child 4\", description=\"Description of Child 4\")])\n",
        "\n",
        "new_parent_2 = Parent(name=\"Parent 3\", children=[Child(name=\"Child 5\", description=\"Description of Child 5\"),\n",
        "                                                 Child(name=\"Child 6\", description=\"Description of Child 6\")])\n",
        "\n",
        "new_parent_3 = Parent(name=\"Parent 4\", children=[Child(name=\"Child 7\", description=\"Description of Child 7\"),\n",
        "                                                 Child(name=\"Child 8\", description=\"Description of Child 8\")])\n",
        "\n",
        "# Add the new parents and their children to the session\n",
        "session.add(new_parent_1)\n",
        "session.add(new_parent_2)\n",
        "session.add(new_parent_3)\n",
        "\n",
        "# Commit the session to insert the new data into the database\n",
        "session.commit()\n",
        "\n",
        "# ---------------------------------------------------------\n",
        "# Verify that the new data was inserted\n",
        "print(\"\\nInserted New Parents and Children:\")\n",
        "parents = session.query(Parent).all()  # Query all parents in the database\n",
        "for parent in parents:\n",
        "    print(f\"Parent: {parent.name}\")\n",
        "    for child in parent.children:\n",
        "        print(f\"  Child: {child.name} - Description: {child.description}\")\n"
      ]
    },
    {
      "cell_type": "markdown",
      "metadata": {
        "id": "LvmMUP6d2a0D"
      },
      "source": [
        "# SQLAlchemy ORM - A NEW WAY TO CREATE COLUMNS"
      ]
    },
    {
      "cell_type": "code",
      "execution_count": 30,
      "metadata": {
        "colab": {
          "base_uri": "https://localhost:8080/"
        },
        "id": "DjMqHkus2a0D",
        "outputId": "657ea84e-a496-4512-cbac-82d0550f4a1b"
      },
      "outputs": [
        {
          "output_type": "stream",
          "name": "stdout",
          "text": [
            "2025-06-30 09:57:12,314 INFO sqlalchemy.engine.Engine BEGIN (implicit)\n"
          ]
        },
        {
          "output_type": "stream",
          "name": "stderr",
          "text": [
            "INFO:sqlalchemy.engine.Engine:BEGIN (implicit)\n"
          ]
        },
        {
          "output_type": "stream",
          "name": "stdout",
          "text": [
            "2025-06-30 09:57:12,317 INFO sqlalchemy.engine.Engine PRAGMA main.table_info(\"users\")\n"
          ]
        },
        {
          "output_type": "stream",
          "name": "stderr",
          "text": [
            "INFO:sqlalchemy.engine.Engine:PRAGMA main.table_info(\"users\")\n"
          ]
        },
        {
          "output_type": "stream",
          "name": "stdout",
          "text": [
            "2025-06-30 09:57:12,319 INFO sqlalchemy.engine.Engine [raw sql] ()\n"
          ]
        },
        {
          "output_type": "stream",
          "name": "stderr",
          "text": [
            "INFO:sqlalchemy.engine.Engine:[raw sql] ()\n"
          ]
        },
        {
          "output_type": "stream",
          "name": "stdout",
          "text": [
            "2025-06-30 09:57:12,321 INFO sqlalchemy.engine.Engine PRAGMA temp.table_info(\"users\")\n"
          ]
        },
        {
          "output_type": "stream",
          "name": "stderr",
          "text": [
            "INFO:sqlalchemy.engine.Engine:PRAGMA temp.table_info(\"users\")\n"
          ]
        },
        {
          "output_type": "stream",
          "name": "stdout",
          "text": [
            "2025-06-30 09:57:12,323 INFO sqlalchemy.engine.Engine [raw sql] ()\n"
          ]
        },
        {
          "output_type": "stream",
          "name": "stderr",
          "text": [
            "INFO:sqlalchemy.engine.Engine:[raw sql] ()\n"
          ]
        },
        {
          "output_type": "stream",
          "name": "stdout",
          "text": [
            "2025-06-30 09:57:12,326 INFO sqlalchemy.engine.Engine \n",
            "CREATE TABLE users (\n",
            "\tid INTEGER NOT NULL, \n",
            "\tname VARCHAR(20), \n",
            "\tage INTEGER, \n",
            "\tPRIMARY KEY (id)\n",
            ")\n",
            "\n",
            "\n"
          ]
        },
        {
          "output_type": "stream",
          "name": "stderr",
          "text": [
            "INFO:sqlalchemy.engine.Engine:\n",
            "CREATE TABLE users (\n",
            "\tid INTEGER NOT NULL, \n",
            "\tname VARCHAR(20), \n",
            "\tage INTEGER, \n",
            "\tPRIMARY KEY (id)\n",
            ")\n",
            "\n",
            "\n"
          ]
        },
        {
          "output_type": "stream",
          "name": "stdout",
          "text": [
            "2025-06-30 09:57:12,329 INFO sqlalchemy.engine.Engine [no key 0.00255s] ()\n"
          ]
        },
        {
          "output_type": "stream",
          "name": "stderr",
          "text": [
            "INFO:sqlalchemy.engine.Engine:[no key 0.00255s] ()\n"
          ]
        },
        {
          "output_type": "stream",
          "name": "stdout",
          "text": [
            "2025-06-30 09:57:12,346 INFO sqlalchemy.engine.Engine COMMIT\n"
          ]
        },
        {
          "output_type": "stream",
          "name": "stderr",
          "text": [
            "INFO:sqlalchemy.engine.Engine:COMMIT\n"
          ]
        }
      ],
      "source": [
        "from sqlalchemy import Column, Integer, String, create_engine\n",
        "from sqlalchemy.orm import DeclarativeBase, mapped_column, Mapped, registry\n",
        "from typing import Optional\n",
        "from typing_extensions import Annotated\n",
        "\n",
        "# Define the SQLite database URL\n",
        "bd_url = \"sqlite:///coloumnbase1.db\"\n",
        "engine = create_engine(bd_url, echo=True)  # Create the database engine\n",
        "\n",
        "# Define type annotations for string lengths using Annotated\n",
        "str_20 = Annotated[str, 20] # String with max length 20\n",
        "str_100 = Annotated[str, 100] # String with max length 100\n",
        "\n",
        "# Custom Base class with registry for type annotation mapping\n",
        "class Base(DeclarativeBase):\n",
        "    registry = registry(\n",
        "        type_annotation_map={\n",
        "            str_20: String(20),  # Map str_20 annotation to String(20)\n",
        "            str_100: String(100), # Map str_100 annotation to String(100)\n",
        "        }\n",
        "    )\n",
        "\n",
        "# User Model\n",
        "class UserLegacy(Base):\n",
        "    __tablename__ = 'users' # Define table name\n",
        "\n",
        "    # Define columns with type hints and mapped_column\n",
        "    id: Mapped[int] = mapped_column(Integer, primary_key=True)  # Primary key column\n",
        "    name: Mapped[Optional[str_20]] = mapped_column(String(20), nullable=True)  # Name column (nullable)\n",
        "    age: Mapped[Optional[int]] = mapped_column(Integer, nullable=True)    # Age column (nullable)\n",
        "\n",
        "# Create tables\n",
        "Base.metadata.create_all(engine)\n"
      ]
    },
    {
      "cell_type": "markdown",
      "metadata": {
        "id": "fMTMrEKf2a0D"
      },
      "source": [
        "# SQLAlchemy ORM - Reduce Column Data"
      ]
    },
    {
      "cell_type": "code",
      "execution_count": 31,
      "metadata": {
        "colab": {
          "base_uri": "https://localhost:8080/"
        },
        "id": "eTDnVpNk2a0D",
        "outputId": "5c4eeec3-a645-40c4-c061-76cb78620c05"
      },
      "outputs": [
        {
          "output_type": "stream",
          "name": "stdout",
          "text": [
            "2025-06-30 09:57:19,032 INFO sqlalchemy.engine.Engine BEGIN (implicit)\n"
          ]
        },
        {
          "output_type": "stream",
          "name": "stderr",
          "text": [
            "INFO:sqlalchemy.engine.Engine:BEGIN (implicit)\n"
          ]
        },
        {
          "output_type": "stream",
          "name": "stdout",
          "text": [
            "2025-06-30 09:57:19,034 INFO sqlalchemy.engine.Engine PRAGMA main.table_info(\"users\")\n"
          ]
        },
        {
          "output_type": "stream",
          "name": "stderr",
          "text": [
            "INFO:sqlalchemy.engine.Engine:PRAGMA main.table_info(\"users\")\n"
          ]
        },
        {
          "output_type": "stream",
          "name": "stdout",
          "text": [
            "2025-06-30 09:57:19,036 INFO sqlalchemy.engine.Engine [raw sql] ()\n"
          ]
        },
        {
          "output_type": "stream",
          "name": "stderr",
          "text": [
            "INFO:sqlalchemy.engine.Engine:[raw sql] ()\n"
          ]
        },
        {
          "output_type": "stream",
          "name": "stdout",
          "text": [
            "2025-06-30 09:57:19,038 INFO sqlalchemy.engine.Engine PRAGMA temp.table_info(\"users\")\n"
          ]
        },
        {
          "output_type": "stream",
          "name": "stderr",
          "text": [
            "INFO:sqlalchemy.engine.Engine:PRAGMA temp.table_info(\"users\")\n"
          ]
        },
        {
          "output_type": "stream",
          "name": "stdout",
          "text": [
            "2025-06-30 09:57:19,040 INFO sqlalchemy.engine.Engine [raw sql] ()\n"
          ]
        },
        {
          "output_type": "stream",
          "name": "stderr",
          "text": [
            "INFO:sqlalchemy.engine.Engine:[raw sql] ()\n"
          ]
        },
        {
          "output_type": "stream",
          "name": "stdout",
          "text": [
            "2025-06-30 09:57:19,043 INFO sqlalchemy.engine.Engine \n",
            "CREATE TABLE users (\n",
            "\tid INTEGER NOT NULL, \n",
            "\tname VARCHAR(100), \n",
            "\temail VARCHAR(150), \n",
            "\tbio TEXT, \n",
            "\tPRIMARY KEY (id), \n",
            "\tUNIQUE (email)\n",
            ")\n",
            "\n",
            "\n"
          ]
        },
        {
          "output_type": "stream",
          "name": "stderr",
          "text": [
            "INFO:sqlalchemy.engine.Engine:\n",
            "CREATE TABLE users (\n",
            "\tid INTEGER NOT NULL, \n",
            "\tname VARCHAR(100), \n",
            "\temail VARCHAR(150), \n",
            "\tbio TEXT, \n",
            "\tPRIMARY KEY (id), \n",
            "\tUNIQUE (email)\n",
            ")\n",
            "\n",
            "\n"
          ]
        },
        {
          "output_type": "stream",
          "name": "stdout",
          "text": [
            "2025-06-30 09:57:19,044 INFO sqlalchemy.engine.Engine [no key 0.00184s] ()\n"
          ]
        },
        {
          "output_type": "stream",
          "name": "stderr",
          "text": [
            "INFO:sqlalchemy.engine.Engine:[no key 0.00184s] ()\n"
          ]
        },
        {
          "output_type": "stream",
          "name": "stdout",
          "text": [
            "2025-06-30 09:57:19,060 INFO sqlalchemy.engine.Engine COMMIT\n"
          ]
        },
        {
          "output_type": "stream",
          "name": "stderr",
          "text": [
            "INFO:sqlalchemy.engine.Engine:COMMIT\n"
          ]
        },
        {
          "output_type": "stream",
          "name": "stdout",
          "text": [
            "2025-06-30 09:57:19,065 INFO sqlalchemy.engine.Engine BEGIN (implicit)\n"
          ]
        },
        {
          "output_type": "stream",
          "name": "stderr",
          "text": [
            "INFO:sqlalchemy.engine.Engine:BEGIN (implicit)\n"
          ]
        },
        {
          "output_type": "stream",
          "name": "stdout",
          "text": [
            "2025-06-30 09:57:19,068 INFO sqlalchemy.engine.Engine INSERT INTO users (name, email, bio) VALUES (?, ?, ?) RETURNING id\n"
          ]
        },
        {
          "output_type": "stream",
          "name": "stderr",
          "text": [
            "INFO:sqlalchemy.engine.Engine:INSERT INTO users (name, email, bio) VALUES (?, ?, ?) RETURNING id\n"
          ]
        },
        {
          "output_type": "stream",
          "name": "stdout",
          "text": [
            "2025-06-30 09:57:19,070 INFO sqlalchemy.engine.Engine [generated in 0.00019s (insertmanyvalues) 1/3 (ordered; batch not supported)] ('Alice', 'alice@example.com', 'Loves AI and ML.')\n"
          ]
        },
        {
          "output_type": "stream",
          "name": "stderr",
          "text": [
            "INFO:sqlalchemy.engine.Engine:[generated in 0.00019s (insertmanyvalues) 1/3 (ordered; batch not supported)] ('Alice', 'alice@example.com', 'Loves AI and ML.')\n"
          ]
        },
        {
          "output_type": "stream",
          "name": "stdout",
          "text": [
            "2025-06-30 09:57:19,072 INFO sqlalchemy.engine.Engine INSERT INTO users (name, email, bio) VALUES (?, ?, ?) RETURNING id\n"
          ]
        },
        {
          "output_type": "stream",
          "name": "stderr",
          "text": [
            "INFO:sqlalchemy.engine.Engine:INSERT INTO users (name, email, bio) VALUES (?, ?, ?) RETURNING id\n"
          ]
        },
        {
          "output_type": "stream",
          "name": "stdout",
          "text": [
            "2025-06-30 09:57:19,074 INFO sqlalchemy.engine.Engine [insertmanyvalues 2/3 (ordered; batch not supported)] ('Bob', 'bob@example.com', 'A passionate Python developer.')\n"
          ]
        },
        {
          "output_type": "stream",
          "name": "stderr",
          "text": [
            "INFO:sqlalchemy.engine.Engine:[insertmanyvalues 2/3 (ordered; batch not supported)] ('Bob', 'bob@example.com', 'A passionate Python developer.')\n"
          ]
        },
        {
          "output_type": "stream",
          "name": "stdout",
          "text": [
            "2025-06-30 09:57:19,075 INFO sqlalchemy.engine.Engine INSERT INTO users (name, email, bio) VALUES (?, ?, ?) RETURNING id\n"
          ]
        },
        {
          "output_type": "stream",
          "name": "stderr",
          "text": [
            "INFO:sqlalchemy.engine.Engine:INSERT INTO users (name, email, bio) VALUES (?, ?, ?) RETURNING id\n"
          ]
        },
        {
          "output_type": "stream",
          "name": "stdout",
          "text": [
            "2025-06-30 09:57:19,077 INFO sqlalchemy.engine.Engine [insertmanyvalues 3/3 (ordered; batch not supported)] ('Charlie', 'charlie@example.com', 'Enjoys working with SQLAlchemy.')\n"
          ]
        },
        {
          "output_type": "stream",
          "name": "stderr",
          "text": [
            "INFO:sqlalchemy.engine.Engine:[insertmanyvalues 3/3 (ordered; batch not supported)] ('Charlie', 'charlie@example.com', 'Enjoys working with SQLAlchemy.')\n"
          ]
        },
        {
          "output_type": "stream",
          "name": "stdout",
          "text": [
            "2025-06-30 09:57:19,079 INFO sqlalchemy.engine.Engine COMMIT\n"
          ]
        },
        {
          "output_type": "stream",
          "name": "stderr",
          "text": [
            "INFO:sqlalchemy.engine.Engine:COMMIT\n"
          ]
        }
      ],
      "source": [
        "from sqlalchemy import create_engine, Column, Integer, String, Text\n",
        "from sqlalchemy.orm import sessionmaker, declarative_base\n",
        "\n",
        "# Create SQLite Database\n",
        "DATABASE_URL = \"sqlite:///example2.db\"\n",
        "engine = create_engine(DATABASE_URL, echo=True)\n",
        "\n",
        "# Define ORM Base\n",
        "Base = declarative_base()\n",
        "\n",
        "# Define User Model\n",
        "class User(Base):\n",
        "    __tablename__ = \"users\"\n",
        "\n",
        "    id = Column(Integer, primary_key=True)\n",
        "    name = Column(String(100))\n",
        "    email = Column(String(150), unique=True)\n",
        "    bio = Column(Text)  # Large text field\n",
        "\n",
        "# Create Tables\n",
        "Base.metadata.create_all(engine)\n",
        "\n",
        "# Create Session\n",
        "SessionLocal = sessionmaker(bind=engine)\n",
        "session = SessionLocal()\n",
        "\n",
        "# Insert Sample Data (Run Once)\n",
        "def insert_sample_data():\n",
        "    users = [\n",
        "        User(name=\"Alice\", email=\"alice@example.com\", bio=\"Loves AI and ML.\"),\n",
        "        User(name=\"Bob\", email=\"bob@example.com\", bio=\"A passionate Python developer.\"),\n",
        "        User(name=\"Charlie\", email=\"charlie@example.com\", bio=\"Enjoys working with SQLAlchemy.\"),\n",
        "    ]\n",
        "    session.add_all(users)\n",
        "    session.commit()\n",
        "\n",
        "# Insert the sample data into the database\n",
        "insert_sample_data()\n",
        "\n",
        "# Close the session\n",
        "session.close()\n"
      ]
    },
    {
      "cell_type": "markdown",
      "metadata": {
        "id": "1s6iMhRO2a0E"
      },
      "source": [
        "# Using load_only\n",
        "\n",
        "* load_only is used when you want to load only specific columns from a model. This is useful when you don’t need all the columns and want to optimize the query."
      ]
    },
    {
      "cell_type": "code",
      "execution_count": 32,
      "metadata": {
        "colab": {
          "base_uri": "https://localhost:8080/"
        },
        "id": "jaEYrxbR2a0E",
        "outputId": "e10e5f5c-24e9-4538-a193-800dac898483"
      },
      "outputs": [
        {
          "output_type": "stream",
          "name": "stdout",
          "text": [
            "2025-06-30 09:57:27,090 INFO sqlalchemy.engine.Engine BEGIN (implicit)\n"
          ]
        },
        {
          "output_type": "stream",
          "name": "stderr",
          "text": [
            "INFO:sqlalchemy.engine.Engine:BEGIN (implicit)\n"
          ]
        },
        {
          "output_type": "stream",
          "name": "stdout",
          "text": [
            "2025-06-30 09:57:27,095 INFO sqlalchemy.engine.Engine SELECT users.id AS users_id, users.name AS users_name, users.email AS users_email \n",
            "FROM users\n"
          ]
        },
        {
          "output_type": "stream",
          "name": "stderr",
          "text": [
            "INFO:sqlalchemy.engine.Engine:SELECT users.id AS users_id, users.name AS users_name, users.email AS users_email \n",
            "FROM users\n"
          ]
        },
        {
          "output_type": "stream",
          "name": "stdout",
          "text": [
            "2025-06-30 09:57:27,097 INFO sqlalchemy.engine.Engine [generated in 0.00231s] ()\n"
          ]
        },
        {
          "output_type": "stream",
          "name": "stderr",
          "text": [
            "INFO:sqlalchemy.engine.Engine:[generated in 0.00231s] ()\n"
          ]
        },
        {
          "output_type": "stream",
          "name": "stdout",
          "text": [
            "Name: Alice, Email: alice@example.com\n",
            "Name: Bob, Email: bob@example.com\n",
            "Name: Charlie, Email: charlie@example.com\n"
          ]
        }
      ],
      "source": [
        "from sqlalchemy.orm import load_only\n",
        "\n",
        "# Query to load only specific columns (e.g., name and email)\n",
        "users = session.query(User).options(load_only(User.name, User.email)).all()\n",
        "\n",
        "for user in users:\n",
        "    print(f\"Name: {user.name}, Email: {user.email}\")"
      ]
    },
    {
      "cell_type": "markdown",
      "metadata": {
        "id": "8PwRWlv_2a0E"
      },
      "source": [
        "# with_entities"
      ]
    },
    {
      "cell_type": "code",
      "execution_count": 33,
      "metadata": {
        "colab": {
          "base_uri": "https://localhost:8080/"
        },
        "id": "z5-IR8OB2a0E",
        "outputId": "68728b11-235f-487c-b1f8-4c7c1ef71e0c"
      },
      "outputs": [
        {
          "output_type": "stream",
          "name": "stdout",
          "text": [
            "2025-06-30 09:57:32,788 INFO sqlalchemy.engine.Engine SELECT users.id AS users_id, users.name AS users_name \n",
            "FROM users\n"
          ]
        },
        {
          "output_type": "stream",
          "name": "stderr",
          "text": [
            "INFO:sqlalchemy.engine.Engine:SELECT users.id AS users_id, users.name AS users_name \n",
            "FROM users\n"
          ]
        },
        {
          "output_type": "stream",
          "name": "stdout",
          "text": [
            "2025-06-30 09:57:32,791 INFO sqlalchemy.engine.Engine [generated in 0.00326s] ()\n"
          ]
        },
        {
          "output_type": "stream",
          "name": "stderr",
          "text": [
            "INFO:sqlalchemy.engine.Engine:[generated in 0.00326s] ()\n"
          ]
        },
        {
          "output_type": "stream",
          "name": "stdout",
          "text": [
            "[(1, 'Alice'), (2, 'Bob'), (3, 'Charlie')]\n"
          ]
        }
      ],
      "source": [
        "results = session.query(User).with_entities(User.id, User.name).all()\n",
        "print(results)  # Returns: [(1, 'Alice'), (2, 'Bob'), (3, 'Charlie')]\n"
      ]
    },
    {
      "cell_type": "markdown",
      "metadata": {
        "id": "RrqKalqN2a0E"
      },
      "source": [
        "# Query to load all columns, but defer loading of the 'bio' column"
      ]
    },
    {
      "cell_type": "code",
      "execution_count": 35,
      "metadata": {
        "colab": {
          "base_uri": "https://localhost:8080/"
        },
        "id": "rRmEMXjy2a0F",
        "outputId": "18ef21cd-b1c3-40ae-8752-f5096f9ce944"
      },
      "outputs": [
        {
          "output_type": "stream",
          "name": "stdout",
          "text": [
            "2025-06-30 10:07:54,278 INFO sqlalchemy.engine.Engine SELECT users.id AS users_id, users.name AS users_name, users.email AS users_email \n",
            "FROM users\n"
          ]
        },
        {
          "output_type": "stream",
          "name": "stderr",
          "text": [
            "INFO:sqlalchemy.engine.Engine:SELECT users.id AS users_id, users.name AS users_name, users.email AS users_email \n",
            "FROM users\n"
          ]
        },
        {
          "output_type": "stream",
          "name": "stdout",
          "text": [
            "2025-06-30 10:07:54,293 INFO sqlalchemy.engine.Engine [generated in 0.01449s] ()\n"
          ]
        },
        {
          "output_type": "stream",
          "name": "stderr",
          "text": [
            "INFO:sqlalchemy.engine.Engine:[generated in 0.01449s] ()\n"
          ]
        },
        {
          "output_type": "stream",
          "name": "stdout",
          "text": [
            "Name: Alice, Email: alice@example.com\n",
            "2025-06-30 10:07:54,304 INFO sqlalchemy.engine.Engine SELECT users.bio AS users_bio \n",
            "FROM users \n",
            "WHERE users.id = ?\n"
          ]
        },
        {
          "output_type": "stream",
          "name": "stderr",
          "text": [
            "INFO:sqlalchemy.engine.Engine:SELECT users.bio AS users_bio \n",
            "FROM users \n",
            "WHERE users.id = ?\n"
          ]
        },
        {
          "output_type": "stream",
          "name": "stdout",
          "text": [
            "2025-06-30 10:07:54,309 INFO sqlalchemy.engine.Engine [generated in 0.00523s] (1,)\n"
          ]
        },
        {
          "output_type": "stream",
          "name": "stderr",
          "text": [
            "INFO:sqlalchemy.engine.Engine:[generated in 0.00523s] (1,)\n"
          ]
        },
        {
          "output_type": "stream",
          "name": "stdout",
          "text": [
            "Bio: Loves AI and ML.\n",
            "Name: Bob, Email: bob@example.com\n",
            "2025-06-30 10:07:54,316 INFO sqlalchemy.engine.Engine SELECT users.bio AS users_bio \n",
            "FROM users \n",
            "WHERE users.id = ?\n"
          ]
        },
        {
          "output_type": "stream",
          "name": "stderr",
          "text": [
            "INFO:sqlalchemy.engine.Engine:SELECT users.bio AS users_bio \n",
            "FROM users \n",
            "WHERE users.id = ?\n"
          ]
        },
        {
          "output_type": "stream",
          "name": "stdout",
          "text": [
            "2025-06-30 10:07:54,324 INFO sqlalchemy.engine.Engine [cached since 0.01967s ago] (2,)\n"
          ]
        },
        {
          "output_type": "stream",
          "name": "stderr",
          "text": [
            "INFO:sqlalchemy.engine.Engine:[cached since 0.01967s ago] (2,)\n"
          ]
        },
        {
          "output_type": "stream",
          "name": "stdout",
          "text": [
            "Bio: A passionate Python developer.\n",
            "Name: Charlie, Email: charlie@example.com\n",
            "2025-06-30 10:07:54,334 INFO sqlalchemy.engine.Engine SELECT users.bio AS users_bio \n",
            "FROM users \n",
            "WHERE users.id = ?\n"
          ]
        },
        {
          "output_type": "stream",
          "name": "stderr",
          "text": [
            "INFO:sqlalchemy.engine.Engine:SELECT users.bio AS users_bio \n",
            "FROM users \n",
            "WHERE users.id = ?\n"
          ]
        },
        {
          "output_type": "stream",
          "name": "stdout",
          "text": [
            "2025-06-30 10:07:54,352 INFO sqlalchemy.engine.Engine [cached since 0.04795s ago] (3,)\n"
          ]
        },
        {
          "output_type": "stream",
          "name": "stderr",
          "text": [
            "INFO:sqlalchemy.engine.Engine:[cached since 0.04795s ago] (3,)\n"
          ]
        },
        {
          "output_type": "stream",
          "name": "stdout",
          "text": [
            "Bio: Enjoys working with SQLAlchemy.\n"
          ]
        }
      ],
      "source": [
        "from sqlalchemy.orm import defer\n",
        "# Query to load all columns, but defer loading of the 'bio' column\n",
        "users_with_deferred_bio = session.query(User).options(defer(User.bio)).all()\n",
        "\n",
        "for user in users_with_deferred_bio:\n",
        "    print(f\"Name: {user.name}, Email: {user.email}\")\n",
        "    # 'bio' is deferred until accessed\n",
        "    print(f\"Bio: {user.bio}\")  # At this point, the 'bio' will be fetched"
      ]
    },
    {
      "cell_type": "markdown",
      "metadata": {
        "id": "Y6fVG6G-2a0F"
      },
      "source": [
        "# Process Large Queries Efficiently Using yield_per()\n",
        "* Loads data in small batches to reduce memory usage."
      ]
    },
    {
      "cell_type": "code",
      "execution_count": 36,
      "metadata": {
        "colab": {
          "base_uri": "https://localhost:8080/"
        },
        "id": "GBG1X4S_2a0G",
        "outputId": "fb1e0bf9-bff1-4d32-cdd0-09560172c933"
      },
      "outputs": [
        {
          "output_type": "stream",
          "name": "stdout",
          "text": [
            "2025-06-30 10:08:04,599 INFO sqlalchemy.engine.Engine SELECT users.id AS users_id, users.name AS users_name, users.email AS users_email, users.bio AS users_bio \n",
            "FROM users\n"
          ]
        },
        {
          "output_type": "stream",
          "name": "stderr",
          "text": [
            "INFO:sqlalchemy.engine.Engine:SELECT users.id AS users_id, users.name AS users_name, users.email AS users_email, users.bio AS users_bio \n",
            "FROM users\n"
          ]
        },
        {
          "output_type": "stream",
          "name": "stdout",
          "text": [
            "2025-06-30 10:08:04,602 INFO sqlalchemy.engine.Engine [generated in 0.00295s] ()\n"
          ]
        },
        {
          "output_type": "stream",
          "name": "stderr",
          "text": [
            "INFO:sqlalchemy.engine.Engine:[generated in 0.00295s] ()\n"
          ]
        },
        {
          "output_type": "stream",
          "name": "stdout",
          "text": [
            "Alice\n",
            "Bob\n",
            "Charlie\n"
          ]
        }
      ],
      "source": [
        "for user in session.query(User).yield_per(2):  # Fetches 2 records at a time\n",
        "    print(user.name)\n"
      ]
    },
    {
      "cell_type": "markdown",
      "metadata": {
        "id": "4w1DE5ka2a0G"
      },
      "source": [
        "## Python SQLAlchemy ORM - Types of JOINS"
      ]
    },
    {
      "cell_type": "markdown",
      "metadata": {
        "id": "DsWe5zA62a0H"
      },
      "source": [
        "### INNER JOIN\n",
        "\n",
        "* An INNER JOIN retrieves records that have matching values in both tables. If there is no match, the row is excluded."
      ]
    },
    {
      "cell_type": "code",
      "execution_count": 37,
      "metadata": {
        "colab": {
          "base_uri": "https://localhost:8080/"
        },
        "id": "GvsNwG4I2a0H",
        "outputId": "ba7821d7-131f-495f-e4e5-9e942efcaddf"
      },
      "outputs": [
        {
          "output_type": "stream",
          "name": "stdout",
          "text": [
            "INNER JOIN:\n",
            "User: Alice, Post: Post 1\n",
            "User: Bob, Post: Post 2\n",
            "User: Bob, Post: Post 3\n",
            "\n"
          ]
        }
      ],
      "source": [
        "from sqlalchemy import create_engine, Column, Integer, String, ForeignKey\n",
        "from sqlalchemy.orm import sessionmaker, relationship\n",
        "from sqlalchemy.orm import declarative_base\n",
        "from sqlalchemy.orm import aliased\n",
        "\n",
        "# Set up the database and base\n",
        "DATABASE_URL = \"sqlite:///example4.db\"  # SQLite database\n",
        "Base = declarative_base()\n",
        "engine = create_engine(DATABASE_URL, echo=False)  # Engine for SQLite\n",
        "Session = sessionmaker(bind=engine)  # Create session for queries\n",
        "session = Session()\n",
        "\n",
        "# Define the models\n",
        "class User(Base):\n",
        "    __tablename__ = 'users'\n",
        "    id = Column(Integer, primary_key=True)\n",
        "    name = Column(String)\n",
        "    email = Column(String, unique=True)\n",
        "\n",
        "class Post(Base):\n",
        "    __tablename__ = 'posts'\n",
        "    id = Column(Integer, primary_key=True)\n",
        "    title = Column(String)\n",
        "    content = Column(String)\n",
        "    user_id = Column(Integer, ForeignKey('users.id'))  # Foreign key to users\n",
        "    user = relationship('User', backref='posts')  # One-to-many relationship\n",
        "\n",
        "# Create all tables (if not exist)\n",
        "Base.metadata.create_all(engine)\n",
        "\n",
        "# Insert Sample Data (Uncomment to insert data initially)\n",
        "def insert_sample_data():\n",
        "    users = [\n",
        "        User(name=\"Alice\", email=\"alice@example.com\"),\n",
        "        User(name=\"Bob\", email=\"bob@example.com\"),\n",
        "        User(name=\"Charlie\", email=\"charlie@example.com\"),\n",
        "    ]\n",
        "    posts = [\n",
        "        Post(title=\"Post 1\", content=\"Content 1\", user_id=1),\n",
        "        Post(title=\"Post 2\", content=\"Content 2\", user_id=2),\n",
        "        Post(title=\"Post 3\", content=\"Content 3\", user_id=2),\n",
        "    ]\n",
        "    session.add_all(users + posts)\n",
        "    session.commit()\n",
        "\n",
        "# Uncomment to insert data initially\n",
        "insert_sample_data()\n",
        "\n",
        "# -- INNER JOIN --\n",
        "# Query using INNER JOIN: Select users who have posts\n",
        "users_with_posts = session.query(User, Post).join(Post).all()\n",
        "print(\"INNER JOIN:\")\n",
        "for user, post in users_with_posts:\n",
        "    print(f\"User: {user.name}, Post: {post.title}\")\n",
        "print()  # Empty line\n",
        "\n",
        "# Close the session\n",
        "session.close()\n"
      ]
    },
    {
      "cell_type": "markdown",
      "metadata": {
        "id": "6bDSJHYt2a0H"
      },
      "source": [
        "### LEFT OUTER JOIN:\n",
        "\n",
        "* This query retrieves all users and their posts, if any. The LEFT OUTER JOIN ensures that all users appear, even if they don't have posts. Users without posts will have None as their post."
      ]
    },
    {
      "cell_type": "code",
      "execution_count": 38,
      "metadata": {
        "colab": {
          "base_uri": "https://localhost:8080/"
        },
        "id": "LqFUQjpU2a0I",
        "outputId": "76ba7c16-e7fd-4546-e188-753f26b424d1"
      },
      "outputs": [
        {
          "output_type": "stream",
          "name": "stdout",
          "text": [
            "LEFT OUTER JOIN:\n",
            "User: Alice, Post: Post 1\n",
            "User: Bob, Post: Post 2\n",
            "User: Bob, Post: Post 3\n",
            "User: Charlie, Post: No Post\n",
            "\n"
          ]
        }
      ],
      "source": [
        "\n",
        "# -- LEFT OUTER JOIN --\n",
        "# Query using LEFT OUTER JOIN: Select all users and their posts (if any)\n",
        "users_with_optional_posts = session.query(User, Post).join(Post, isouter=True).all()\n",
        "print(\"LEFT OUTER JOIN:\")\n",
        "for user, post in users_with_optional_posts:\n",
        "    post_title = post.title if post else \"No Post\"\n",
        "    print(f\"User: {user.name}, Post: {post_title}\")\n",
        "print()  # Empty line\n",
        "\n"
      ]
    },
    {
      "cell_type": "markdown",
      "metadata": {
        "id": "_SwwB7cB2a0I"
      },
      "source": [
        "### RIGHT OUTER JOIN (Simulated using a LEFT OUTER JOIN):\n",
        "\n",
        "* SQLAlchemy ORM does not natively support RIGHT OUTER JOIN, so this example simulates it by reversing the tables in the LEFT OUTER JOIN."
      ]
    },
    {
      "cell_type": "code",
      "execution_count": 39,
      "metadata": {
        "colab": {
          "base_uri": "https://localhost:8080/"
        },
        "id": "HKl7wBO_2a0I",
        "outputId": "ae285707-23be-466f-b475-0d1dcdeb5ada"
      },
      "outputs": [
        {
          "output_type": "stream",
          "name": "stdout",
          "text": [
            "RIGHT OUTER JOIN (simulated):\n",
            "Post: Post 1, User: Alice\n",
            "Post: Post 2, User: Bob\n",
            "Post: Post 3, User: Bob\n",
            "\n"
          ]
        }
      ],
      "source": [
        "# -- RIGHT OUTER JOIN (simulated) --\n",
        "# Query using RIGHT OUTER JOIN: Select all posts and their associated users (if any)\n",
        "# We reverse the query to simulate RIGHT OUTER JOIN by flipping the order of tables\n",
        "posts_with_optional_users = session.query(Post, User).join(User, isouter=True).all()\n",
        "print(\"RIGHT OUTER JOIN (simulated):\")\n",
        "for post, user in posts_with_optional_users:\n",
        "    user_name = user.name if user else \"No User\"\n",
        "    print(f\"Post: {post.title}, User: {user_name}\")\n",
        "print()  # Empty line\n"
      ]
    },
    {
      "cell_type": "markdown",
      "metadata": {
        "id": "Pbn1AQdl2a0I"
      },
      "source": [
        "### FULL OUTER JOIN (using raw SQL):\n",
        "\n",
        "* FULL OUTER JOIN is not directly supported by SQLAlchemy, so we use raw SQL to perform it. This query selects all users and posts, even if there's no match between them."
      ]
    },
    {
      "cell_type": "code",
      "execution_count": 41,
      "metadata": {
        "colab": {
          "base_uri": "https://localhost:8080/"
        },
        "id": "to_Yl4152a0J",
        "outputId": "e18d7803-3e5e-4462-ea75-c1990eac6c5f"
      },
      "outputs": [
        {
          "output_type": "stream",
          "name": "stdout",
          "text": [
            "Simulated FULL OUTER JOIN:\n",
            "(1, 'Alice', 1, 'Post 1')\n",
            "(2, 'Bob', 2, 'Post 2')\n",
            "(2, 'Bob', 3, 'Post 3')\n",
            "(3, 'Charlie', None, None)\n"
          ]
        }
      ],
      "source": [
        "from sqlalchemy import text\n",
        "\n",
        "sql = text(\"\"\"\n",
        "SELECT users.id AS user_id, users.name, posts.id AS post_id, posts.title\n",
        "FROM users\n",
        "LEFT JOIN posts ON users.id = posts.user_id\n",
        "\n",
        "UNION\n",
        "\n",
        "SELECT users.id AS user_id, users.name, posts.id AS post_id, posts.title\n",
        "FROM posts\n",
        "LEFT JOIN users ON users.id = posts.user_id\n",
        "WHERE users.id IS NULL;\n",
        "\"\"\")\n",
        "\n",
        "result = session.execute(sql)\n",
        "\n",
        "print(\"Simulated FULL OUTER JOIN:\")\n",
        "for row in result:\n",
        "    print(row)\n"
      ]
    },
    {
      "cell_type": "markdown",
      "metadata": {
        "id": "2GH1lKv22a0J"
      },
      "source": [
        "# Python SQLAlchemy ORM - Eager Query Options\n",
        "* In SQLAlchemy ORM, eager loading refers to a strategy for retrieving related objects at the time of the initial query, rather than lazily loading them when they are accessed. This can improve performance by reducing the number of queries, especially when you know you will need the related objects right away.\n",
        "\n",
        "* SQLAlchemy provides several options to achieve eager loading, including:\n",
        "\n",
        " * joinedload: Loads the related objects in the same query using a SQL JOIN.\n",
        " * subqueryload: Loads the related objects in a separate query using a subquery.\n",
        " * selectinload: Loads the related objects in a separate query using a SELECT IN query."
      ]
    },
    {
      "cell_type": "code",
      "execution_count": 42,
      "metadata": {
        "colab": {
          "base_uri": "https://localhost:8080/"
        },
        "id": "-8BCwMNO2a0J",
        "outputId": "ea360a20-a576-4a2f-9502-1f5eb4c7c9c4"
      },
      "outputs": [
        {
          "output_type": "stream",
          "name": "stdout",
          "text": [
            "Using joinedload:\n",
            "User: Alice\n",
            "  - Post: Post 1 by Alice\n",
            "  - Post: Post 2 by Alice\n",
            "User: Bob\n",
            "  - Post: Post 1 by Bob\n",
            "\n",
            "Using subqueryload:\n",
            "User: Alice\n",
            "  - Post: Post 1 by Alice\n",
            "  - Post: Post 2 by Alice\n",
            "User: Bob\n",
            "  - Post: Post 1 by Bob\n",
            "\n",
            "Using selectinload:\n",
            "User: Alice\n",
            "  - Post: Post 1 by Alice\n",
            "  - Post: Post 2 by Alice\n",
            "User: Bob\n",
            "  - Post: Post 1 by Bob\n",
            "\n"
          ]
        }
      ],
      "source": [
        "from sqlalchemy import Column, ForeignKey, Integer, String, create_engine\n",
        "from sqlalchemy.orm import (\n",
        "    sessionmaker,\n",
        "    relationship,\n",
        "    selectinload,\n",
        "    joinedload,\n",
        "    subqueryload,\n",
        ")\n",
        "from sqlalchemy.orm import declarative_base\n",
        "\n",
        "# Define the SQLite database URL\n",
        "db_url = 'sqlite:///eager_loading_example.db'\n",
        "\n",
        "# Create an engine to connect to the SQLite database\n",
        "engine = create_engine(db_url)\n",
        "\n",
        "# Create a session factory\n",
        "Session = sessionmaker(bind=engine)\n",
        "session = Session()\n",
        "\n",
        "# Base class for all models\n",
        "Base = declarative_base()\n",
        "\n",
        "# Define the User model (representing users table)\n",
        "class User(Base):\n",
        "    __tablename__ = 'users'\n",
        "    id = Column(Integer, primary_key=True)\n",
        "    name = Column(String)\n",
        "\n",
        "    # Define a relationship to the Post model\n",
        "    posts = relationship('Post', backref='user', lazy='select')\n",
        "\n",
        "    def __repr__(self):\n",
        "        return f'<User {self.name}>'\n",
        "\n",
        "# Define the Post model (representing posts table)\n",
        "class Post(Base):\n",
        "    __tablename__ = 'posts'\n",
        "    id = Column(Integer, primary_key=True)\n",
        "    title = Column(String)\n",
        "    user_id = Column(Integer, ForeignKey('users.id'))\n",
        "\n",
        "    def __repr__(self):\n",
        "        return f'<Post {self.title}>'\n",
        "\n",
        "# Create the tables in the database\n",
        "Base.metadata.create_all(engine)\n",
        "\n",
        "# Insert some sample data (Uncomment if you want to insert data initially)\n",
        "def insert_sample_data():\n",
        "    user1 = User(name=\"Alice\")\n",
        "    user1.posts = [\n",
        "        Post(title=\"Post 1 by Alice\"),\n",
        "        Post(title=\"Post 2 by Alice\")\n",
        "    ]\n",
        "\n",
        "    user2 = User(name=\"Bob\")\n",
        "    user2.posts = [\n",
        "        Post(title=\"Post 1 by Bob\")\n",
        "    ]\n",
        "\n",
        "    session.add_all([user1, user2])\n",
        "    session.commit()\n",
        "\n",
        "insert_sample_data()\n",
        "\n",
        "# Example 1: Using joinedload for eager loading (joins related data in the same query)\n",
        "print(\"Using joinedload:\")\n",
        "users_with_posts_joined = session.query(User).options(joinedload(User.posts)).all()\n",
        "\n",
        "for user in users_with_posts_joined:\n",
        "    print(f\"User: {user.name}\")\n",
        "    for post in user.posts:\n",
        "        print(f\"  - Post: {post.title}\")\n",
        "print()\n",
        "\n",
        "# Example 2: Using subqueryload for eager loading (loads related data with a subquery)\n",
        "print(\"Using subqueryload:\")\n",
        "users_with_posts_subquery = session.query(User).options(subqueryload(User.posts)).all()\n",
        "\n",
        "for user in users_with_posts_subquery:\n",
        "    print(f\"User: {user.name}\")\n",
        "    for post in user.posts:\n",
        "        print(f\"  - Post: {post.title}\")\n",
        "print()\n",
        "\n",
        "# Example 3: Using selectinload for eager loading (loads related data with SELECT IN)\n",
        "print(\"Using selectinload:\")\n",
        "users_with_posts_selectin = session.query(User).options(selectinload(User.posts)).all()\n",
        "\n",
        "for user in users_with_posts_selectin:\n",
        "    print(f\"User: {user.name}\")\n",
        "    for post in user.posts:\n",
        "        print(f\"  - Post: {post.title}\")\n",
        "print()\n",
        "\n",
        "# Close the session\n",
        "session.close()\n"
      ]
    },
    {
      "cell_type": "code",
      "execution_count": null,
      "metadata": {
        "id": "zWzEFtEa2a0J"
      },
      "outputs": [],
      "source": []
    }
  ],
  "metadata": {
    "kernelspec": {
      "display_name": "Python 3",
      "language": "python",
      "name": "python3"
    },
    "language_info": {
      "codemirror_mode": {
        "name": "ipython",
        "version": 3
      },
      "file_extension": ".py",
      "mimetype": "text/x-python",
      "name": "python",
      "nbconvert_exporter": "python",
      "pygments_lexer": "ipython3",
      "version": "3.11.9"
    },
    "colab": {
      "provenance": []
    }
  },
  "nbformat": 4,
  "nbformat_minor": 0
}